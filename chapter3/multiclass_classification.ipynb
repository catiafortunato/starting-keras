{
 "cells": [
  {
   "cell_type": "markdown",
   "metadata": {},
   "source": [
    "# Reuters newswires"
   ]
  },
  {
   "cell_type": "code",
   "execution_count": 1,
   "metadata": {},
   "outputs": [
    {
     "name": "stderr",
     "output_type": "stream",
     "text": [
      "/anaconda2/lib/python2.7/site-packages/h5py/__init__.py:36: FutureWarning: Conversion of the second argument of issubdtype from `float` to `np.floating` is deprecated. In future, it will be treated as `np.float64 == np.dtype(float).type`.\n",
      "  from ._conv import register_converters as _register_converters\n",
      "Using TensorFlow backend.\n"
     ]
    },
    {
     "name": "stdout",
     "output_type": "stream",
     "text": [
      "Downloading data from https://s3.amazonaws.com/text-datasets/reuters.npz\n",
      "2113536/2110848 [==============================] - 13s 6us/step\n",
      "2121728/2110848 [==============================] - 13s 6us/step\n"
     ]
    }
   ],
   "source": [
    "from keras.datasets import reuters\n",
    "\n",
    "(train_data, train_labels), (test_data, test_labels) = reuters.load_data(\n",
    "    num_words=10000)"
   ]
  },
  {
   "cell_type": "markdown",
   "metadata": {},
   "source": [
    "8,982 training examples and 2,246 test examples"
   ]
  },
  {
   "cell_type": "code",
   "execution_count": 2,
   "metadata": {},
   "outputs": [],
   "source": [
    "import numpy as np\n",
    "\n",
    "def vectorize_sequences(sequences, dimension=10000):\n",
    "    results = np.zeros((len(sequences), dimension))\n",
    "    for i, sequence in enumerate(sequences):\n",
    "        results[i, sequence] = 1.\n",
    "    return results\n",
    "\n",
    "x_train = vectorize_sequences(train_data)\n",
    "x_test = vectorize_sequences(test_data)\n"
   ]
  },
  {
   "cell_type": "code",
   "execution_count": 3,
   "metadata": {},
   "outputs": [],
   "source": [
    "def to_one_hot(labels, dimension=46):\n",
    "    results = np.zeros((len(labels), dimension))\n",
    "    for i, label in enumerate(labels):\n",
    "        results[i, label] = 1.\n",
    "    return results\n",
    "\n",
    "one_hot_train_labels = to_one_hot(train_labels)\n",
    "one_hot_test_labels = to_one_hot(test_labels)\n"
   ]
  },
  {
   "cell_type": "markdown",
   "metadata": {},
   "source": [
    "### Building the network"
   ]
  },
  {
   "cell_type": "code",
   "execution_count": 4,
   "metadata": {},
   "outputs": [],
   "source": [
    "from keras import models\n",
    "from keras import layers\n",
    "\n",
    "model = models.Sequential()\n",
    "model.add(layers.Dense(64, activation='relu', input_shape=(10000,)))\n",
    "model.add(layers.Dense(64, activation='relu'))\n",
    "model.add(layers.Dense(46, activation='softmax'))"
   ]
  },
  {
   "cell_type": "code",
   "execution_count": 5,
   "metadata": {},
   "outputs": [],
   "source": [
    "model.compile(optimizer='rmsprop',\n",
    "              loss='categorical_crossentropy',\n",
    "              metrics=['accuracy'])"
   ]
  },
  {
   "cell_type": "markdown",
   "metadata": {},
   "source": [
    "### Validation"
   ]
  },
  {
   "cell_type": "code",
   "execution_count": 6,
   "metadata": {},
   "outputs": [],
   "source": [
    "x_val = x_train[:1000]\n",
    "partial_x_train = x_train[1000:]\n",
    "\n",
    "y_val = one_hot_train_labels[:1000]\n",
    "partial_y_train = one_hot_train_labels[1000:]"
   ]
  },
  {
   "cell_type": "markdown",
   "metadata": {},
   "source": [
    "### Training the model "
   ]
  },
  {
   "cell_type": "code",
   "execution_count": 7,
   "metadata": {},
   "outputs": [
    {
     "name": "stdout",
     "output_type": "stream",
     "text": [
      "Train on 7982 samples, validate on 1000 samples\n",
      "Epoch 1/20\n",
      "7982/7982 [==============================] - 2s 236us/step - loss: 2.5251 - acc: 0.4949 - val_loss: 1.7190 - val_acc: 0.6150\n",
      "Epoch 2/20\n",
      "7982/7982 [==============================] - 1s 136us/step - loss: 1.4457 - acc: 0.6882 - val_loss: 1.3504 - val_acc: 0.7090\n",
      "Epoch 3/20\n",
      "7982/7982 [==============================] - 1s 125us/step - loss: 1.0989 - acc: 0.7636 - val_loss: 1.1735 - val_acc: 0.7430\n",
      "Epoch 4/20\n",
      "7982/7982 [==============================] - 1s 131us/step - loss: 0.8711 - acc: 0.8153 - val_loss: 1.0840 - val_acc: 0.7600\n",
      "Epoch 5/20\n",
      "7982/7982 [==============================] - 1s 118us/step - loss: 0.7034 - acc: 0.8488 - val_loss: 0.9859 - val_acc: 0.7810\n",
      "Epoch 6/20\n",
      "7982/7982 [==============================] - 1s 117us/step - loss: 0.5670 - acc: 0.8806 - val_loss: 0.9412 - val_acc: 0.8020\n",
      "Epoch 7/20\n",
      "7982/7982 [==============================] - 1s 118us/step - loss: 0.4614 - acc: 0.9045 - val_loss: 0.9091 - val_acc: 0.8070\n",
      "Epoch 8/20\n",
      "7982/7982 [==============================] - 1s 134us/step - loss: 0.3723 - acc: 0.9221 - val_loss: 0.9361 - val_acc: 0.7940\n",
      "Epoch 9/20\n",
      "7982/7982 [==============================] - 1s 115us/step - loss: 0.3049 - acc: 0.9311 - val_loss: 0.8911 - val_acc: 0.8060\n",
      "Epoch 10/20\n",
      "7982/7982 [==============================] - 1s 114us/step - loss: 0.2550 - acc: 0.9411 - val_loss: 0.9083 - val_acc: 0.8150\n",
      "Epoch 11/20\n",
      "7982/7982 [==============================] - 1s 114us/step - loss: 0.2195 - acc: 0.9468 - val_loss: 0.9189 - val_acc: 0.8100\n",
      "Epoch 12/20\n",
      "7982/7982 [==============================] - 1s 116us/step - loss: 0.1882 - acc: 0.9506 - val_loss: 0.9078 - val_acc: 0.8150\n",
      "Epoch 13/20\n",
      "7982/7982 [==============================] - 1s 120us/step - loss: 0.1704 - acc: 0.9519 - val_loss: 0.9366 - val_acc: 0.8120\n",
      "Epoch 14/20\n",
      "7982/7982 [==============================] - 1s 114us/step - loss: 0.1541 - acc: 0.9554 - val_loss: 0.9662 - val_acc: 0.8070\n",
      "Epoch 15/20\n",
      "7982/7982 [==============================] - 1s 114us/step - loss: 0.1395 - acc: 0.9559 - val_loss: 0.9715 - val_acc: 0.8120\n",
      "Epoch 16/20\n",
      "7982/7982 [==============================] - 1s 113us/step - loss: 0.1317 - acc: 0.9560 - val_loss: 1.0245 - val_acc: 0.8060\n",
      "Epoch 17/20\n",
      "7982/7982 [==============================] - 1s 126us/step - loss: 0.1224 - acc: 0.9578 - val_loss: 1.0252 - val_acc: 0.7990\n",
      "Epoch 18/20\n",
      "7982/7982 [==============================] - 1s 117us/step - loss: 0.1202 - acc: 0.9573 - val_loss: 1.0429 - val_acc: 0.8080\n",
      "Epoch 19/20\n",
      "7982/7982 [==============================] - 1s 117us/step - loss: 0.1142 - acc: 0.9593 - val_loss: 1.0982 - val_acc: 0.7980\n",
      "Epoch 20/20\n",
      "7982/7982 [==============================] - 1s 115us/step - loss: 0.1118 - acc: 0.9603 - val_loss: 1.0710 - val_acc: 0.8000\n"
     ]
    }
   ],
   "source": [
    "history = model.fit(partial_x_train,\n",
    "                    partial_y_train,\n",
    "                    epochs=20,\n",
    "                    batch_size=512,\n",
    "                    validation_data=(x_val, y_val))"
   ]
  },
  {
   "cell_type": "code",
   "execution_count": 9,
   "metadata": {},
   "outputs": [
    {
     "data": {
      "image/png": "[encoded data removed]",
      "text/plain": [
       "<Figure size 432x288 with 1 Axes>"
      ]
     },
     "metadata": {},
     "output_type": "display_data"
    }
   ],
   "source": [
    "import matplotlib.pyplot as plt\n",
    "\n",
    "loss = history.history['loss']\n",
    "val_loss = history.history['val_loss']\n",
    "\n",
    "epochs = range(1, len(loss) + 1)\n",
    "\n",
    "plt.plot(epochs, loss, 'bo', label='Training loss')\n",
    "plt.plot(epochs, val_loss, 'b', label='Validation loss')\n",
    "plt.title('Training and validation loss')\n",
    "plt.xlabel('Epochs')\n",
    "plt.ylabel('Loss')\n",
    "plt.legend()\n",
    "\n",
    "plt.show()"
   ]
  },
  {
   "cell_type": "code",
   "execution_count": 10,
   "metadata": {},
   "outputs": [
    {
     "data": {
      "image/png": "[encoded data removed]",
      "text/plain": [
       "<Figure size 432x288 with 1 Axes>"
      ]
     },
     "metadata": {},
     "output_type": "display_data"
    }
   ],
   "source": [
    "plt.clf()\n",
    "\n",
    "acc = history.history['acc']\n",
    "val_acc = history.history['val_acc']\n",
    "\n",
    "plt.plot(epochs, acc, 'bo', label='Training acc')\n",
    "plt.plot(epochs, val_acc, 'b', label='Validation acc')\n",
    "plt.title('Training and validation accuracy')\n",
    "plt.xlabel('Epochs')\n",
    "plt.ylabel('Loss')\n",
    "plt.legend()\n",
    "\n",
    "plt.show()\n"
   ]
  },
  {
   "cell_type": "markdown",
   "metadata": {},
   "source": [
    "We can see again, that for this example the model starts to overfit after 9 epoch, so we will train the model again for only 9 epoch. "
   ]
  },
  {
   "cell_type": "code",
   "execution_count": 13,
   "metadata": {},
   "outputs": [
    {
     "name": "stdout",
     "output_type": "stream",
     "text": [
      "Train on 7982 samples, validate on 1000 samples\n",
      "Epoch 1/9\n",
      "7982/7982 [==============================] - 1s 154us/step - loss: 2.6135 - acc: 0.4644 - val_loss: 1.7289 - val_acc: 0.6350\n",
      "Epoch 2/9\n",
      "7982/7982 [==============================] - 1s 116us/step - loss: 1.4074 - acc: 0.7082 - val_loss: 1.2747 - val_acc: 0.7310\n",
      "Epoch 3/9\n",
      "7982/7982 [==============================] - 1s 113us/step - loss: 1.0425 - acc: 0.7786 - val_loss: 1.1035 - val_acc: 0.7630\n",
      "Epoch 4/9\n",
      "7982/7982 [==============================] - 1s 135us/step - loss: 0.8180 - acc: 0.8324 - val_loss: 1.0272 - val_acc: 0.7820\n",
      "Epoch 5/9\n",
      "7982/7982 [==============================] - 1s 144us/step - loss: 0.6506 - acc: 0.8627 - val_loss: 0.9516 - val_acc: 0.8070\n",
      "Epoch 6/9\n",
      "7982/7982 [==============================] - 1s 132us/step - loss: 0.5295 - acc: 0.8900 - val_loss: 0.9206 - val_acc: 0.8120\n",
      "Epoch 7/9\n",
      "7982/7982 [==============================] - 1s 137us/step - loss: 0.4210 - acc: 0.9114 - val_loss: 0.9005 - val_acc: 0.8140\n",
      "Epoch 8/9\n",
      "7982/7982 [==============================] - 1s 130us/step - loss: 0.3482 - acc: 0.9258 - val_loss: 0.8914 - val_acc: 0.8150\n",
      "Epoch 9/9\n",
      "7982/7982 [==============================] - 1s 150us/step - loss: 0.2857 - acc: 0.9355 - val_loss: 0.8846 - val_acc: 0.8210\n",
      "2246/2246 [==============================] - 0s 159us/step\n"
     ]
    }
   ],
   "source": [
    "model = models.Sequential()\n",
    "model.add(layers.Dense(64, activation='relu', input_shape=(10000,)))\n",
    "model.add(layers.Dense(64, activation='relu'))\n",
    "model.add(layers.Dense(46, activation='softmax'))\n",
    "\n",
    "model.compile(optimizer='rmsprop',\n",
    "              loss='categorical_crossentropy',\n",
    "              metrics=['accuracy'])\n",
    "model.fit(partial_x_train,\n",
    "          partial_y_train,\n",
    "          epochs=9,\n",
    "          batch_size=512,\n",
    "          validation_data=(x_val, y_val))\n",
    "results = model.evaluate(x_test, one_hot_test_labels)"
   ]
  },
  {
   "cell_type": "code",
   "execution_count": 14,
   "metadata": {},
   "outputs": [
    {
     "data": {
      "text/plain": [
       "[0.9842278851214414, 0.7858414960459524]"
      ]
     },
     "execution_count": 14,
     "metadata": {},
     "output_type": "execute_result"
    }
   ],
   "source": [
    "results"
   ]
  },
  {
   "cell_type": "markdown",
   "metadata": {},
   "source": [
    "### Predictions on data"
   ]
  },
  {
   "cell_type": "code",
   "execution_count": 15,
   "metadata": {},
   "outputs": [],
   "source": [
    "predictions = model.predict(x_test)"
   ]
  },
  {
   "cell_type": "code",
   "execution_count": 16,
   "metadata": {},
   "outputs": [
    {
     "data": {
      "text/plain": [
       "(46,)"
      ]
     },
     "execution_count": 16,
     "metadata": {},
     "output_type": "execute_result"
    }
   ],
   "source": [
    "predictions[0].shape"
   ]
  },
  {
   "cell_type": "code",
   "execution_count": 17,
   "metadata": {},
   "outputs": [
    {
     "data": {
      "text/plain": [
       "1.0000002"
      ]
     },
     "execution_count": 17,
     "metadata": {},
     "output_type": "execute_result"
    }
   ],
   "source": [
    "np.sum(predictions[0])"
   ]
  },
  {
   "cell_type": "code",
   "execution_count": 18,
   "metadata": {},
   "outputs": [
    {
     "data": {
      "text/plain": [
       "3"
      ]
     },
     "execution_count": 18,
     "metadata": {},
     "output_type": "execute_result"
    }
   ],
   "source": [
    "np.argmax(predictions[0])"
   ]
  },
  {
   "cell_type": "markdown",
   "metadata": {},
   "source": [
    "This means that the first example in the test set belongs to the 4th class"
   ]
  },
  {
   "cell_type": "code",
   "execution_count": 19,
   "metadata": {},
   "outputs": [],
   "source": [
    "y_train = np.array(train_labels)\n",
    "y_test = np.array(test_labels)"
   ]
  },
  {
   "cell_type": "code",
   "execution_count": 20,
   "metadata": {},
   "outputs": [],
   "source": [
    "model.compile(optimizer='rmsprop',\n",
    "              loss='sparse_categorical_crossentropy',\n",
    "              metrics=['acc'])"
   ]
  },
  {
   "cell_type": "markdown",
   "metadata": {},
   "source": [
    "## Alternative models"
   ]
  },
  {
   "cell_type": "code",
   "execution_count": 23,
   "metadata": {},
   "outputs": [
    {
     "name": "stdout",
     "output_type": "stream",
     "text": [
      "Train on 7982 samples, validate on 1000 samples\n",
      "Epoch 1/20\n",
      "7982/7982 [==============================] - 1s 171us/step - loss: 2.7476 - acc: 0.4079 - val_loss: 2.0170 - val_acc: 0.5800\n",
      "Epoch 2/20\n",
      "7982/7982 [==============================] - 1s 142us/step - loss: 1.6357 - acc: 0.6151 - val_loss: 1.5335 - val_acc: 0.6250\n",
      "Epoch 3/20\n",
      "7982/7982 [==============================] - 1s 151us/step - loss: 1.3292 - acc: 0.6431 - val_loss: 1.4314 - val_acc: 0.6410\n",
      "Epoch 4/20\n",
      "7982/7982 [==============================] - 1s 141us/step - loss: 1.1627 - acc: 0.6988 - val_loss: 1.3609 - val_acc: 0.6870\n",
      "Epoch 5/20\n",
      "7982/7982 [==============================] - 1s 147us/step - loss: 1.0244 - acc: 0.7551 - val_loss: 1.3144 - val_acc: 0.7010\n",
      "Epoch 6/20\n",
      "7982/7982 [==============================] - 1s 162us/step - loss: 0.9160 - acc: 0.7776 - val_loss: 1.3281 - val_acc: 0.7120\n",
      "Epoch 7/20\n",
      "7982/7982 [==============================] - 1s 139us/step - loss: 0.8330 - acc: 0.7917 - val_loss: 1.3012 - val_acc: 0.7240\n",
      "Epoch 8/20\n",
      "7982/7982 [==============================] - 1s 140us/step - loss: 0.7644 - acc: 0.8097 - val_loss: 1.3401 - val_acc: 0.7150\n",
      "Epoch 9/20\n",
      "7982/7982 [==============================] - 1s 141us/step - loss: 0.7050 - acc: 0.8195 - val_loss: 1.3687 - val_acc: 0.7160\n",
      "Epoch 10/20\n",
      "7982/7982 [==============================] - 1s 141us/step - loss: 0.6570 - acc: 0.8275 - val_loss: 1.3797 - val_acc: 0.7200\n",
      "Epoch 11/20\n",
      "7982/7982 [==============================] - 1s 159us/step - loss: 0.6175 - acc: 0.8322 - val_loss: 1.4300 - val_acc: 0.7110\n",
      "Epoch 12/20\n",
      "7982/7982 [==============================] - 1s 144us/step - loss: 0.5828 - acc: 0.8373 - val_loss: 1.4886 - val_acc: 0.7070\n",
      "Epoch 13/20\n",
      "7982/7982 [==============================] - 1s 140us/step - loss: 0.5534 - acc: 0.8406 - val_loss: 1.5145 - val_acc: 0.7040\n",
      "Epoch 14/20\n",
      "7982/7982 [==============================] - 1s 154us/step - loss: 0.5257 - acc: 0.8478 - val_loss: 1.5503 - val_acc: 0.7030\n",
      "Epoch 15/20\n",
      "7982/7982 [==============================] - 1s 168us/step - loss: 0.5010 - acc: 0.8572 - val_loss: 1.5612 - val_acc: 0.7070\n",
      "Epoch 16/20\n",
      "7982/7982 [==============================] - 1s 149us/step - loss: 0.4787 - acc: 0.8612 - val_loss: 1.6602 - val_acc: 0.7090\n",
      "Epoch 17/20\n",
      "7982/7982 [==============================] - 1s 139us/step - loss: 0.4579 - acc: 0.8695 - val_loss: 1.6474 - val_acc: 0.7090\n",
      "Epoch 18/20\n",
      "7982/7982 [==============================] - 1s 138us/step - loss: 0.4383 - acc: 0.8746 - val_loss: 1.7097 - val_acc: 0.7170\n",
      "Epoch 19/20\n",
      "7982/7982 [==============================] - 1s 144us/step - loss: 0.4199 - acc: 0.8758 - val_loss: 1.7152 - val_acc: 0.7030\n",
      "Epoch 20/20\n",
      "7982/7982 [==============================] - 1s 141us/step - loss: 0.4071 - acc: 0.8799 - val_loss: 1.7865 - val_acc: 0.7120\n"
     ]
    },
    {
     "data": {
      "text/plain": [
       "<keras.callbacks.History at 0x1638fc050>"
      ]
     },
     "execution_count": 23,
     "metadata": {},
     "output_type": "execute_result"
    }
   ],
   "source": [
    "model = models.Sequential()\n",
    "model.add(layers.Dense(64, activation='relu', input_shape=(10000,)))\n",
    "model.add(layers.Dense(4, activation='relu'))\n",
    "model.add(layers.Dense(46, activation='softmax'))\n",
    "\n",
    "model.compile(optimizer='rmsprop',\n",
    "              loss='categorical_crossentropy',\n",
    "              metrics=['accuracy'])\n",
    "model.fit(partial_x_train,\n",
    "          partial_y_train,\n",
    "          epochs=20,\n",
    "          batch_size=128,\n",
    "          validation_data=(x_val, y_val))"
   ]
  },
  {
   "cell_type": "code",
   "execution_count": 24,
   "metadata": {},
   "outputs": [
    {
     "data": {
      "text/plain": [
       "[0.9842278851214414, 0.7858414960459524]"
      ]
     },
     "execution_count": 24,
     "metadata": {},
     "output_type": "execute_result"
    }
   ],
   "source": [
    "results"
   ]
  },
  {
   "cell_type": "code",
   "execution_count": null,
   "metadata": {},
   "outputs": [],
   "source": []
  }
 ],
 "metadata": {
  "kernelspec": {
   "display_name": "Python 2",
   "language": "python",
   "name": "python2"
  },
  "language_info": {
   "codemirror_mode": {
    "name": "ipython",
    "version": 2
   },
   "file_extension": ".py",
   "mimetype": "text/x-python",
   "name": "python",
   "nbconvert_exporter": "python",
   "pygments_lexer": "ipython2",
   "version": "2.7.14"
  }
 },
 "nbformat": 4,
 "nbformat_minor": 2
}
