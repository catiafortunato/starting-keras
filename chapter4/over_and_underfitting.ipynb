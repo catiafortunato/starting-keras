{
 "cells": [
  {
   "cell_type": "markdown",
   "metadata": {},
   "source": [
    "# Overfitting and underfitting"
   ]
  },
  {
   "cell_type": "markdown",
   "metadata": {},
   "source": [
    "## Considering the example of the movie reviews "
   ]
  },
  {
   "cell_type": "markdown",
   "metadata": {},
   "source": [
    "We will start by changing the number of hidden unit per layer to the effect of that change in the validation loss."
   ]
  },
  {
   "cell_type": "code",
   "execution_count": 1,
   "metadata": {},
   "outputs": [
    {
     "name": "stderr",
     "output_type": "stream",
     "text": [
      "/anaconda2/lib/python2.7/site-packages/h5py/__init__.py:36: FutureWarning: Conversion of the second argument of issubdtype from `float` to `np.floating` is deprecated. In future, it will be treated as `np.float64 == np.dtype(float).type`.\n",
      "  from ._conv import register_converters as _register_converters\n",
      "Using TensorFlow backend.\n"
     ]
    }
   ],
   "source": [
    "from keras.datasets import imdb\n",
    "\n",
    "(train_data, train_labels), (test_data, test_labels) = imdb.load_data(\n",
    "    num_words=10000)"
   ]
  },
  {
   "cell_type": "code",
   "execution_count": 2,
   "metadata": {},
   "outputs": [],
   "source": [
    "import numpy as np\n",
    "\n",
    "def vectorize_sequences(sequences, dimension=10000):\n",
    "    results = np.zeros((len(sequences), dimension))\n",
    "    for i, sequence in enumerate(sequences):\n",
    "        results[i, sequence] = 1.\n",
    "    return results\n",
    "\n",
    "x_train = vectorize_sequences(train_data)\n",
    "x_test = vectorize_sequences(test_data)"
   ]
  },
  {
   "cell_type": "code",
   "execution_count": 3,
   "metadata": {},
   "outputs": [],
   "source": [
    "y_train = np.asarray(train_labels).astype('float32')\n",
    "y_test = np.asarray(test_labels).astype('float32')"
   ]
  },
  {
   "cell_type": "code",
   "execution_count": 8,
   "metadata": {},
   "outputs": [],
   "source": [
    "x_val = x_train[:10000]\n",
    "partial_x_train = x_train[10000:]\n",
    "y_val = y_train[:10000]\n",
    "partial_y_train = y_train[10000:]"
   ]
  },
  {
   "cell_type": "markdown",
   "metadata": {},
   "source": [
    "This was the model considered in the previous example."
   ]
  },
  {
   "cell_type": "code",
   "execution_count": 6,
   "metadata": {},
   "outputs": [],
   "source": [
    "from keras import models\n",
    "from keras import layers\n",
    "\n",
    "model = models.Sequential()\n",
    "model.add(layers.Dense(16, activation='relu', input_shape=(10000,)))\n",
    "model.add(layers.Dense(16, activation='relu'))\n",
    "model.add(layers.Dense(1, activation='sigmoid'))"
   ]
  },
  {
   "cell_type": "code",
   "execution_count": 9,
   "metadata": {},
   "outputs": [
    {
     "name": "stdout",
     "output_type": "stream",
     "text": [
      "Train on 15000 samples, validate on 10000 samples\n",
      "Epoch 1/20\n",
      "15000/15000 [==============================] - 4s 256us/step - loss: 0.5224 - acc: 0.7747 - val_loss: 0.3954 - val_acc: 0.8606\n",
      "Epoch 2/20\n",
      "15000/15000 [==============================] - 2s 133us/step - loss: 0.3144 - acc: 0.9001 - val_loss: 0.3123 - val_acc: 0.8845\n",
      "Epoch 3/20\n",
      "15000/15000 [==============================] - 2s 107us/step - loss: 0.2310 - acc: 0.9256 - val_loss: 0.2998 - val_acc: 0.8806\n",
      "Epoch 4/20\n",
      "15000/15000 [==============================] - 2s 106us/step - loss: 0.1818 - acc: 0.9427 - val_loss: 0.2782 - val_acc: 0.8879\n",
      "Epoch 5/20\n",
      "15000/15000 [==============================] - 2s 113us/step - loss: 0.1480 - acc: 0.9547 - val_loss: 0.2772 - val_acc: 0.8878\n",
      "Epoch 6/20\n",
      "15000/15000 [==============================] - 2s 109us/step - loss: 0.1211 - acc: 0.9633 - val_loss: 0.3102 - val_acc: 0.8788\n",
      "Epoch 7/20\n",
      "15000/15000 [==============================] - 2s 121us/step - loss: 0.0985 - acc: 0.9723 - val_loss: 0.3036 - val_acc: 0.8821\n",
      "Epoch 8/20\n",
      "15000/15000 [==============================] - 2s 107us/step - loss: 0.0806 - acc: 0.9768 - val_loss: 0.3278 - val_acc: 0.8786\n",
      "Epoch 9/20\n",
      "15000/15000 [==============================] - 2s 106us/step - loss: 0.0649 - acc: 0.9831 - val_loss: 0.3464 - val_acc: 0.8774\n",
      "Epoch 10/20\n",
      "15000/15000 [==============================] - 2s 105us/step - loss: 0.0519 - acc: 0.9881 - val_loss: 0.3678 - val_acc: 0.8789\n",
      "Epoch 11/20\n",
      "15000/15000 [==============================] - 2s 106us/step - loss: 0.0426 - acc: 0.9905 - val_loss: 0.3925 - val_acc: 0.8757\n",
      "Epoch 12/20\n",
      "15000/15000 [==============================] - 2s 120us/step - loss: 0.0311 - acc: 0.9947 - val_loss: 0.4422 - val_acc: 0.8690\n",
      "Epoch 13/20\n",
      "15000/15000 [==============================] - 2s 109us/step - loss: 0.0262 - acc: 0.9948 - val_loss: 0.4498 - val_acc: 0.8765\n",
      "Epoch 14/20\n",
      "15000/15000 [==============================] - 2s 106us/step - loss: 0.0199 - acc: 0.9969 - val_loss: 0.4851 - val_acc: 0.8730\n",
      "Epoch 15/20\n",
      "15000/15000 [==============================] - 2s 111us/step - loss: 0.0176 - acc: 0.9962 - val_loss: 0.5169 - val_acc: 0.8684\n",
      "Epoch 16/20\n",
      "15000/15000 [==============================] - 2s 124us/step - loss: 0.0104 - acc: 0.9991 - val_loss: 0.5415 - val_acc: 0.8685\n",
      "Epoch 17/20\n",
      "15000/15000 [==============================] - 2s 105us/step - loss: 0.0097 - acc: 0.9988 - val_loss: 0.5684 - val_acc: 0.8689\n",
      "Epoch 18/20\n",
      "15000/15000 [==============================] - 2s 107us/step - loss: 0.0052 - acc: 0.9997 - val_loss: 0.6086 - val_acc: 0.8666\n",
      "Epoch 19/20\n",
      "15000/15000 [==============================] - 2s 105us/step - loss: 0.0072 - acc: 0.9989 - val_loss: 0.6323 - val_acc: 0.8680\n",
      "Epoch 20/20\n",
      "15000/15000 [==============================] - 2s 106us/step - loss: 0.0028 - acc: 0.9999 - val_loss: 0.6795 - val_acc: 0.8649\n"
     ]
    }
   ],
   "source": [
    "model.compile(optimizer='rmsprop',\n",
    "              loss='binary_crossentropy',\n",
    "              metrics=['acc'])\n",
    "\n",
    "history = model.fit(partial_x_train,\n",
    "                    partial_y_train,\n",
    "                    epochs=20,\n",
    "                    batch_size=512,\n",
    "                    validation_data=(x_val, y_val))"
   ]
  },
  {
   "cell_type": "code",
   "execution_count": 10,
   "metadata": {},
   "outputs": [],
   "source": [
    "history_dict = history.history\n",
    "val_loss_values = history_dict['val_loss']\n",
    "epochs = range(1, 20 + 1)"
   ]
  },
  {
   "cell_type": "code",
   "execution_count": 11,
   "metadata": {},
   "outputs": [],
   "source": [
    "model = models.Sequential()\n",
    "model.add(layers.Dense(4, activation='relu', input_shape=(10000,)))\n",
    "model.add(layers.Dense(4, activation='relu'))\n",
    "model.add(layers.Dense(1, activation='sigmoid'))"
   ]
  },
  {
   "cell_type": "code",
   "execution_count": 12,
   "metadata": {},
   "outputs": [
    {
     "name": "stdout",
     "output_type": "stream",
     "text": [
      "Train on 15000 samples, validate on 10000 samples\n",
      "Epoch 1/20\n",
      "15000/15000 [==============================] - 2s 128us/step - loss: 0.6050 - acc: 0.7685 - val_loss: 0.5338 - val_acc: 0.8324\n",
      "Epoch 2/20\n",
      "15000/15000 [==============================] - 2s 103us/step - loss: 0.4635 - acc: 0.8736 - val_loss: 0.4312 - val_acc: 0.8628\n",
      "Epoch 3/20\n",
      "15000/15000 [==============================] - 2s 111us/step - loss: 0.3712 - acc: 0.8937 - val_loss: 0.3685 - val_acc: 0.8749\n",
      "Epoch 4/20\n",
      "15000/15000 [==============================] - 2s 104us/step - loss: 0.3052 - acc: 0.9095 - val_loss: 0.3337 - val_acc: 0.8755\n",
      "Epoch 5/20\n",
      "15000/15000 [==============================] - 2s 102us/step - loss: 0.2585 - acc: 0.9204 - val_loss: 0.3015 - val_acc: 0.8869\n",
      "Epoch 6/20\n",
      "15000/15000 [==============================] - 2s 101us/step - loss: 0.2233 - acc: 0.9293 - val_loss: 0.2844 - val_acc: 0.8913\n",
      "Epoch 7/20\n",
      "15000/15000 [==============================] - 2s 101us/step - loss: 0.1961 - acc: 0.9375 - val_loss: 0.2792 - val_acc: 0.8907\n",
      "Epoch 8/20\n",
      "15000/15000 [==============================] - 2s 111us/step - loss: 0.1745 - acc: 0.9453 - val_loss: 0.2718 - val_acc: 0.8903\n",
      "Epoch 9/20\n",
      "15000/15000 [==============================] - 2s 101us/step - loss: 0.1556 - acc: 0.9527 - val_loss: 0.2713 - val_acc: 0.8904\n",
      "Epoch 10/20\n",
      "15000/15000 [==============================] - 2s 101us/step - loss: 0.1396 - acc: 0.9563 - val_loss: 0.2771 - val_acc: 0.8886\n",
      "Epoch 11/20\n",
      "15000/15000 [==============================] - 2s 107us/step - loss: 0.1258 - acc: 0.9617 - val_loss: 0.2788 - val_acc: 0.8908\n",
      "Epoch 12/20\n",
      "15000/15000 [==============================] - 2s 110us/step - loss: 0.1127 - acc: 0.9669 - val_loss: 0.2909 - val_acc: 0.8846\n",
      "Epoch 13/20\n",
      "15000/15000 [==============================] - 2s 103us/step - loss: 0.1022 - acc: 0.9714 - val_loss: 0.2925 - val_acc: 0.8880\n",
      "Epoch 14/20\n",
      "15000/15000 [==============================] - 2s 102us/step - loss: 0.0921 - acc: 0.9748 - val_loss: 0.3018 - val_acc: 0.8860\n",
      "Epoch 15/20\n",
      "15000/15000 [==============================] - 2s 105us/step - loss: 0.0828 - acc: 0.9769 - val_loss: 0.3144 - val_acc: 0.8857\n",
      "Epoch 16/20\n",
      "15000/15000 [==============================] - 2s 104us/step - loss: 0.0745 - acc: 0.9805 - val_loss: 0.3339 - val_acc: 0.8807\n",
      "Epoch 17/20\n",
      "15000/15000 [==============================] - 2s 101us/step - loss: 0.0668 - acc: 0.9831 - val_loss: 0.3378 - val_acc: 0.8844\n",
      "Epoch 18/20\n",
      "15000/15000 [==============================] - 2s 101us/step - loss: 0.0600 - acc: 0.9851 - val_loss: 0.3567 - val_acc: 0.8791\n",
      "Epoch 19/20\n",
      "15000/15000 [==============================] - 2s 108us/step - loss: 0.0535 - acc: 0.9879 - val_loss: 0.3687 - val_acc: 0.8827\n",
      "Epoch 20/20\n",
      "15000/15000 [==============================] - 2s 103us/step - loss: 0.0474 - acc: 0.9893 - val_loss: 0.3834 - val_acc: 0.8799\n"
     ]
    }
   ],
   "source": [
    "model.compile(optimizer='rmsprop',\n",
    "              loss='binary_crossentropy',\n",
    "              metrics=['acc'])\n",
    "\n",
    "history2 = model.fit(partial_x_train,\n",
    "                    partial_y_train,\n",
    "                    epochs=20,\n",
    "                    batch_size=512,\n",
    "                    validation_data=(x_val, y_val))"
   ]
  },
  {
   "cell_type": "code",
   "execution_count": 13,
   "metadata": {},
   "outputs": [],
   "source": [
    "history_dict2 = history2.history\n",
    "val_loss_values2 = history_dict2['val_loss']\n",
    "epochs2 = range(1, 20 + 1)"
   ]
  },
  {
   "cell_type": "code",
   "execution_count": 16,
   "metadata": {},
   "outputs": [
    {
     "data": {
      "text/plain": [
       "<matplotlib.legend.Legend at 0x219bc2510>"
      ]
     },
     "execution_count": 16,
     "metadata": {},
     "output_type": "execute_result"
    },
    {
     "data": {
      "image/png": "[encoded data removed]",
      "text/plain": [
       "<Figure size 432x288 with 1 Axes>"
      ]
     },
     "metadata": {},
     "output_type": "display_data"
    }
   ],
   "source": [
    "import matplotlib.pyplot as plt\n",
    "plt.plot(epochs, val_loss_values, 'bo', label='Model with 16 units')\n",
    "plt.plot(epochs2, val_loss_values2, 'b', label='Model with 4 units')\n",
    "plt.title('Validation loss')\n",
    "plt.xlabel('Epochs')\n",
    "plt.ylabel('Loss')\n",
    "plt.legend()"
   ]
  },
  {
   "cell_type": "markdown",
   "metadata": {},
   "source": [
    "As you can see, the smaller network starts overfitting later than the reference network (after six epochs rather than four), and its performance degrades more slowly once it starts overfitting."
   ]
  },
  {
   "cell_type": "markdown",
   "metadata": {},
   "source": [
    "### Adding L2 weight regularization to the model"
   ]
  },
  {
   "cell_type": "code",
   "execution_count": 17,
   "metadata": {},
   "outputs": [],
   "source": [
    "from keras import regularizers\n",
    "\n",
    "model = models.Sequential()\n",
    "model.add(layers.Dense(16, kernel_regularizer=regularizers.l2(0.001),\n",
    "                       activation='relu', input_shape=(10000,)))\n",
    "model.add(layers.Dense(16, kernel_regularizer=regularizers.l2(0.001),\n",
    "                       activation='relu'))\n",
    "model.add(layers.Dense(1, activation='sigmoid'))"
   ]
  },
  {
   "cell_type": "code",
   "execution_count": 18,
   "metadata": {},
   "outputs": [
    {
     "name": "stdout",
     "output_type": "stream",
     "text": [
      "Train on 15000 samples, validate on 10000 samples\n",
      "Epoch 1/20\n",
      "15000/15000 [==============================] - 4s 276us/step - loss: 0.5618 - acc: 0.7840 - val_loss: 0.4359 - val_acc: 0.8673\n",
      "Epoch 2/20\n",
      "15000/15000 [==============================] - 2s 133us/step - loss: 0.3664 - acc: 0.8937 - val_loss: 0.3663 - val_acc: 0.8796\n",
      "Epoch 3/20\n",
      "15000/15000 [==============================] - 2s 113us/step - loss: 0.2943 - acc: 0.9190 - val_loss: 0.3329 - val_acc: 0.8903\n",
      "Epoch 4/20\n",
      "15000/15000 [==============================] - 2s 130us/step - loss: 0.2564 - acc: 0.9307 - val_loss: 0.3430 - val_acc: 0.8804\n",
      "Epoch 5/20\n",
      "15000/15000 [==============================] - 2s 114us/step - loss: 0.2298 - acc: 0.9404 - val_loss: 0.3284 - val_acc: 0.8851\n",
      "Epoch 6/20\n",
      "15000/15000 [==============================] - 2s 109us/step - loss: 0.2142 - acc: 0.9468 - val_loss: 0.3347 - val_acc: 0.8852\n",
      "Epoch 7/20\n",
      "15000/15000 [==============================] - 2s 109us/step - loss: 0.2074 - acc: 0.9481 - val_loss: 0.3419 - val_acc: 0.8844\n",
      "Epoch 8/20\n",
      "15000/15000 [==============================] - 2s 116us/step - loss: 0.1923 - acc: 0.9563 - val_loss: 0.3533 - val_acc: 0.8826\n",
      "Epoch 9/20\n",
      "15000/15000 [==============================] - 2s 110us/step - loss: 0.1879 - acc: 0.9571 - val_loss: 0.3813 - val_acc: 0.8724\n",
      "Epoch 10/20\n",
      "15000/15000 [==============================] - 2s 109us/step - loss: 0.1749 - acc: 0.9627 - val_loss: 0.3671 - val_acc: 0.8811\n",
      "Epoch 11/20\n",
      "15000/15000 [==============================] - 2s 111us/step - loss: 0.1748 - acc: 0.9613 - val_loss: 0.3941 - val_acc: 0.8754\n",
      "Epoch 12/20\n",
      "15000/15000 [==============================] - 2s 118us/step - loss: 0.1684 - acc: 0.9653 - val_loss: 0.3840 - val_acc: 0.8796\n",
      "Epoch 13/20\n",
      "15000/15000 [==============================] - 2s 114us/step - loss: 0.1650 - acc: 0.9661 - val_loss: 0.4161 - val_acc: 0.8726\n",
      "Epoch 14/20\n",
      "15000/15000 [==============================] - 2s 111us/step - loss: 0.1621 - acc: 0.9668 - val_loss: 0.3978 - val_acc: 0.8791\n",
      "Epoch 15/20\n",
      "15000/15000 [==============================] - 2s 112us/step - loss: 0.1556 - acc: 0.9707 - val_loss: 0.4853 - val_acc: 0.8590\n",
      "Epoch 16/20\n",
      "15000/15000 [==============================] - 2s 109us/step - loss: 0.1512 - acc: 0.9719 - val_loss: 0.4211 - val_acc: 0.8687\n",
      "Epoch 17/20\n",
      "15000/15000 [==============================] - 2s 118us/step - loss: 0.1507 - acc: 0.9719 - val_loss: 0.4473 - val_acc: 0.8624\n",
      "Epoch 18/20\n",
      "15000/15000 [==============================] - 2s 112us/step - loss: 0.1492 - acc: 0.9722 - val_loss: 0.4422 - val_acc: 0.8658\n",
      "Epoch 19/20\n",
      "15000/15000 [==============================] - 2s 108us/step - loss: 0.1483 - acc: 0.9709 - val_loss: 0.4342 - val_acc: 0.8725\n",
      "Epoch 20/20\n",
      "15000/15000 [==============================] - 3s 174us/step - loss: 0.1399 - acc: 0.9765 - val_loss: 0.4410 - val_acc: 0.8711\n"
     ]
    }
   ],
   "source": [
    "model.compile(optimizer='rmsprop',\n",
    "              loss='binary_crossentropy',\n",
    "              metrics=['acc'])\n",
    "\n",
    "history3 = model.fit(partial_x_train,\n",
    "                    partial_y_train,\n",
    "                    epochs=20,\n",
    "                    batch_size=512,\n",
    "                    validation_data=(x_val, y_val))"
   ]
  },
  {
   "cell_type": "code",
   "execution_count": 19,
   "metadata": {},
   "outputs": [],
   "source": [
    "history_dict3 = history3.history\n",
    "val_loss_values3 = history_dict3['val_loss']\n",
    "epochs2 = range(1, 20 + 1)"
   ]
  },
  {
   "cell_type": "code",
   "execution_count": 20,
   "metadata": {},
   "outputs": [
    {
     "data": {
      "text/plain": [
       "<matplotlib.legend.Legend at 0x21a736a90>"
      ]
     },
     "execution_count": 20,
     "metadata": {},
     "output_type": "execute_result"
    },
    {
     "data": {
      "image/png": "[encoded data removed]",
      "text/plain": [
       "<Figure size 432x288 with 1 Axes>"
      ]
     },
     "metadata": {},
     "output_type": "display_data"
    }
   ],
   "source": [
    "import matplotlib.pyplot as plt\n",
    "plt.plot(epochs, val_loss_values, 'bo', label='Model with 16 units')\n",
    "plt.plot(epochs2, val_loss_values3, 'b', label='Model with 16 units and L2 regularization')\n",
    "plt.title('Validation loss')\n",
    "plt.xlabel('Epochs')\n",
    "plt.ylabel('Loss')\n",
    "plt.legend()"
   ]
  },
  {
   "cell_type": "markdown",
   "metadata": {},
   "source": [
    "As you can see, the model with L2 regularization (dots) has become much more resistant to overfitting than the reference model (crosses), even though both models have the same number of parameters."
   ]
  },
  {
   "cell_type": "code",
   "execution_count": null,
   "metadata": {},
   "outputs": [],
   "source": []
  }
 ],
 "metadata": {
  "kernelspec": {
   "display_name": "Python 2",
   "language": "python",
   "name": "python2"
  },
  "language_info": {
   "codemirror_mode": {
    "name": "ipython",
    "version": 2
   },
   "file_extension": ".py",
   "mimetype": "text/x-python",
   "name": "python",
   "nbconvert_exporter": "python",
   "pygments_lexer": "ipython2",
   "version": "2.7.14"
  }
 },
 "nbformat": 4,
 "nbformat_minor": 2
}
