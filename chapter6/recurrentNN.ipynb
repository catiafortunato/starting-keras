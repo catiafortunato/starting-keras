{
 "cells": [
  {
   "cell_type": "code",
   "execution_count": 22,
   "metadata": {},
   "outputs": [
    {
     "name": "stdout",
     "output_type": "stream",
     "text": [
      "_________________________________________________________________\n",
      "Layer (type)                 Output Shape              Param #   \n",
      "=================================================================\n",
      "embedding_2 (Embedding)      (None, None, 32)          32000     \n",
      "_________________________________________________________________\n",
      "simple_rnn_2 (SimpleRNN)     (None, 32)                2080      \n",
      "=================================================================\n",
      "Total params: 34,080\n",
      "Trainable params: 34,080\n",
      "Non-trainable params: 0\n",
      "_________________________________________________________________\n"
     ]
    }
   ],
   "source": [
    "from keras.layers import SimpleRNN, Embedding\n",
    "from keras.models import Sequential\n",
    "model= Sequential()\n",
    "model.add(Embedding(1000,32))\n",
    "model.add(SimpleRNN(32))\n",
    "model.summary()"
   ]
  },
  {
   "cell_type": "code",
   "execution_count": 23,
   "metadata": {},
   "outputs": [
    {
     "name": "stdout",
     "output_type": "stream",
     "text": [
      "_________________________________________________________________\n",
      "Layer (type)                 Output Shape              Param #   \n",
      "=================================================================\n",
      "embedding_3 (Embedding)      (None, None, 32)          320000    \n",
      "_________________________________________________________________\n",
      "simple_rnn_3 (SimpleRNN)     (None, None, 32)          2080      \n",
      "=================================================================\n",
      "Total params: 322,080\n",
      "Trainable params: 322,080\n",
      "Non-trainable params: 0\n",
      "_________________________________________________________________\n"
     ]
    }
   ],
   "source": [
    "model=Sequential()\n",
    "model.add(Embedding(10000,32))\n",
    "model.add(SimpleRNN(32, return_sequences=True))\n",
    "model.summary()"
   ]
  },
  {
   "cell_type": "markdown",
   "metadata": {},
   "source": [
    "Sometimes is useful to stack several recurrent layers one after the other to increase the representation power of the network"
   ]
  },
  {
   "cell_type": "code",
   "execution_count": 24,
   "metadata": {},
   "outputs": [
    {
     "name": "stdout",
     "output_type": "stream",
     "text": [
      "_________________________________________________________________\n",
      "Layer (type)                 Output Shape              Param #   \n",
      "=================================================================\n",
      "embedding_4 (Embedding)      (None, None, 32)          320000    \n",
      "_________________________________________________________________\n",
      "simple_rnn_4 (SimpleRNN)     (None, None, 32)          2080      \n",
      "_________________________________________________________________\n",
      "simple_rnn_5 (SimpleRNN)     (None, None, 32)          2080      \n",
      "_________________________________________________________________\n",
      "simple_rnn_6 (SimpleRNN)     (None, None, 32)          2080      \n",
      "_________________________________________________________________\n",
      "simple_rnn_7 (SimpleRNN)     (None, 32)                2080      \n",
      "=================================================================\n",
      "Total params: 328,320\n",
      "Trainable params: 328,320\n",
      "Non-trainable params: 0\n",
      "_________________________________________________________________\n"
     ]
    }
   ],
   "source": [
    "model=Sequential()\n",
    "model.add(Embedding(10000,32))\n",
    "model.add(SimpleRNN(32, return_sequences=True))\n",
    "model.add(SimpleRNN(32, return_sequences=True))\n",
    "model.add(SimpleRNN(32, return_sequences=True))\n",
    "model.add(SimpleRNN(32))\n",
    "model.summary()"
   ]
  },
  {
   "cell_type": "markdown",
   "metadata": {},
   "source": [
    "We will now use the model on the data set os the movie review from IMDB"
   ]
  },
  {
   "cell_type": "code",
   "execution_count": 25,
   "metadata": {},
   "outputs": [
    {
     "name": "stdout",
     "output_type": "stream",
     "text": [
      "Loading data...\n",
      "25000 train sequences\n",
      "25000 test sequences\n",
      "Pad sequences (samples x time)\n",
      "input_train shape: (25000, 500)\n",
      "input_test shape: (25000, 500)\n"
     ]
    }
   ],
   "source": [
    "from keras.datasets import imdb\n",
    "from keras.preprocessing import sequence\n",
    "\n",
    "max_features = 10000\n",
    "maxlen = 500\n",
    "batch_size = 32\n",
    "\n",
    "print('Loading data...')\n",
    "(input_train, y_train), (input_test, y_test) = imdb.load_data(\n",
    "     num_words=max_features)\n",
    "print(len(input_train), 'train sequences')\n",
    "print(len(input_test), 'test sequences')\n",
    "\n",
    "print('Pad sequences (samples x time)')\n",
    "input_train = sequence.pad_sequences(input_train, maxlen=maxlen)\n",
    "input_test = sequence.pad_sequences(input_test, maxlen=maxlen)\n",
    "print('input_train shape:', input_train.shape)\n",
    "print('input_test shape:', input_test.shape)\n",
    "\n"
   ]
  },
  {
   "cell_type": "code",
   "execution_count": 26,
   "metadata": {},
   "outputs": [
    {
     "name": "stdout",
     "output_type": "stream",
     "text": [
      "Train on 20000 samples, validate on 5000 samples\n",
      "Epoch 1/10\n",
      "20000/20000 [==============================] - 14s 688us/step - loss: 0.6450 - acc: 0.6115 - val_loss: 0.5382 - val_acc: 0.7328\n",
      "Epoch 2/10\n",
      "20000/20000 [==============================] - 14s 679us/step - loss: 0.4020 - acc: 0.8269 - val_loss: 0.4328 - val_acc: 0.8060\n",
      "Epoch 3/10\n",
      "20000/20000 [==============================] - 13s 663us/step - loss: 0.2976 - acc: 0.8819 - val_loss: 0.3585 - val_acc: 0.8472\n",
      "Epoch 4/10\n",
      "20000/20000 [==============================] - 13s 668us/step - loss: 0.2298 - acc: 0.9116 - val_loss: 0.3913 - val_acc: 0.8440\n",
      "Epoch 5/10\n",
      "20000/20000 [==============================] - 13s 667us/step - loss: 0.1612 - acc: 0.9405 - val_loss: 0.3735 - val_acc: 0.8488\n",
      "Epoch 6/10\n",
      "20000/20000 [==============================] - 13s 660us/step - loss: 0.1089 - acc: 0.9627 - val_loss: 0.3858 - val_acc: 0.8678\n",
      "Epoch 7/10\n",
      "20000/20000 [==============================] - 13s 657us/step - loss: 0.0746 - acc: 0.9765 - val_loss: 0.4504 - val_acc: 0.8388\n",
      "Epoch 8/10\n",
      "20000/20000 [==============================] - 13s 667us/step - loss: 0.0462 - acc: 0.9865 - val_loss: 0.5468 - val_acc: 0.8178\n",
      "Epoch 9/10\n",
      "20000/20000 [==============================] - 13s 657us/step - loss: 0.0316 - acc: 0.9905 - val_loss: 0.7432 - val_acc: 0.7644\n",
      "Epoch 10/10\n",
      "20000/20000 [==============================] - 13s 659us/step - loss: 0.0195 - acc: 0.9945 - val_loss: 0.7383 - val_acc: 0.7790\n"
     ]
    }
   ],
   "source": [
    "from keras.layers import Dense\n",
    "\n",
    "model = Sequential()\n",
    "model.add(Embedding(max_features, 32))\n",
    "model.add(SimpleRNN(32))\n",
    "model.add(Dense(1, activation='sigmoid'))\n",
    "\n",
    "model.compile(optimizer='rmsprop', loss='binary_crossentropy', metrics=['acc'])\n",
    "history = model.fit(input_train, y_train,\n",
    "                    epochs=10,\n",
    "                    batch_size=128,\n",
    "                    validation_split=0.2)"
   ]
  },
  {
   "cell_type": "code",
   "execution_count": 27,
   "metadata": {},
   "outputs": [
    {
     "data": {
      "image/png": "[encoded data removed]",
      "text/plain": [
       "<Figure size 432x288 with 1 Axes>"
      ]
     },
     "metadata": {},
     "output_type": "display_data"
    },
    {
     "data": {
      "image/png": "[encoded data removed]",
      "text/plain": [
       "<Figure size 432x288 with 1 Axes>"
      ]
     },
     "metadata": {},
     "output_type": "display_data"
    }
   ],
   "source": [
    "import matplotlib.pyplot as plt\n",
    "\n",
    "acc = history.history['acc']\n",
    "val_acc = history.history['val_acc']\n",
    "loss = history.history['loss']\n",
    "val_loss = history.history['val_loss']\n",
    "\n",
    "epochs = range(1, len(acc) + 1)\n",
    "\n",
    "plt.plot(epochs, acc, 'bo', label='Training acc')\n",
    "plt.plot(epochs, val_acc, 'b', label='Validation acc')\n",
    "plt.title('Training and validation accuracy')\n",
    "plt.legend()\n",
    "\n",
    "plt.figure()\n",
    "\n",
    "plt.plot(epochs, loss, 'bo', label='Training loss')\n",
    "plt.plot(epochs, val_loss, 'b', label='Validation loss')\n",
    "plt.title('Training and validation loss')\n",
    "plt.legend()\n",
    "\n",
    "plt.show()"
   ]
  },
  {
   "cell_type": "markdown",
   "metadata": {},
   "source": [
    "## Using a LSTM layer in Keras"
   ]
  },
  {
   "cell_type": "code",
   "execution_count": 28,
   "metadata": {},
   "outputs": [
    {
     "name": "stdout",
     "output_type": "stream",
     "text": [
      "Train on 20000 samples, validate on 5000 samples\n",
      "Epoch 1/10\n",
      "20000/20000 [==============================] - 41s 2ms/step - loss: 0.5092 - acc: 0.7604 - val_loss: 0.4559 - val_acc: 0.7770\n",
      "Epoch 2/10\n",
      "20000/20000 [==============================] - 40s 2ms/step - loss: 0.2894 - acc: 0.8877 - val_loss: 0.3280 - val_acc: 0.8538\n",
      "Epoch 3/10\n",
      "20000/20000 [==============================] - 40s 2ms/step - loss: 0.2337 - acc: 0.9117 - val_loss: 0.3184 - val_acc: 0.8838\n",
      "Epoch 4/10\n",
      "20000/20000 [==============================] - 40s 2ms/step - loss: 0.1955 - acc: 0.9284 - val_loss: 0.3646 - val_acc: 0.8494\n",
      "Epoch 5/10\n",
      "20000/20000 [==============================] - 40s 2ms/step - loss: 0.1719 - acc: 0.9374 - val_loss: 0.3037 - val_acc: 0.8884\n",
      "Epoch 6/10\n",
      "20000/20000 [==============================] - 40s 2ms/step - loss: 0.1538 - acc: 0.9443 - val_loss: 0.3735 - val_acc: 0.8694\n",
      "Epoch 7/10\n",
      "20000/20000 [==============================] - 40s 2ms/step - loss: 0.1414 - acc: 0.9477 - val_loss: 0.3055 - val_acc: 0.8834\n",
      "Epoch 8/10\n",
      "20000/20000 [==============================] - 40s 2ms/step - loss: 0.1299 - acc: 0.9552 - val_loss: 0.3326 - val_acc: 0.8780\n",
      "Epoch 9/10\n",
      "20000/20000 [==============================] - 40s 2ms/step - loss: 0.1163 - acc: 0.9602 - val_loss: 0.3909 - val_acc: 0.8660\n",
      "Epoch 10/10\n",
      "20000/20000 [==============================] - 40s 2ms/step - loss: 0.1108 - acc: 0.9615 - val_loss: 0.3843 - val_acc: 0.8826\n"
     ]
    }
   ],
   "source": [
    "from keras.layers import LSTM\n",
    "\n",
    "model = Sequential()\n",
    "model.add(Embedding(max_features, 32))\n",
    "model.add(LSTM(32))\n",
    "model.add(Dense(1, activation='sigmoid'))\n",
    "\n",
    "model.compile(optimizer='rmsprop',\n",
    "              loss='binary_crossentropy',\n",
    "              metrics=['acc'])\n",
    "history = model.fit(input_train, y_train,\n",
    "                    epochs=10,\n",
    "                    batch_size=128,\n",
    "                    validation_split=0.2)"
   ]
  },
  {
   "cell_type": "markdown",
   "metadata": {},
   "source": [
    "# Temperature "
   ]
  },
  {
   "cell_type": "code",
   "execution_count": 29,
   "metadata": {},
   "outputs": [
    {
     "name": "stdout",
     "output_type": "stream",
     "text": [
      "['\"Date Time\"', '\"p (mbar)\"', '\"T (degC)\"', '\"Tpot (K)\"', '\"Tdew (degC)\"', '\"rh (%)\"', '\"VPmax (mbar)\"', '\"VPact (mbar)\"', '\"VPdef (mbar)\"', '\"sh (g/kg)\"', '\"H2OC (mmol/mol)\"', '\"rho (g/m**3)\"', '\"wv (m/s)\"', '\"max. wv (m/s)\"', '\"wd (deg)\"']\n",
      "420551\n"
     ]
    }
   ],
   "source": [
    "import os\n",
    "\n",
    "data_dir = '/Users/admin/Downloads/jena_climate'\n",
    "fname = os.path.join(data_dir, 'jena_climate_2009_2016.csv')\n",
    "\n",
    "f = open(fname)\n",
    "data = f.read()\n",
    "f.close()\n",
    "\n",
    "lines = data.split('\\n')\n",
    "header = lines[0].split(',')\n",
    "lines = lines[1:]\n",
    "\n",
    "print(header)\n",
    "print(len(lines))"
   ]
  },
  {
   "cell_type": "code",
   "execution_count": 30,
   "metadata": {},
   "outputs": [],
   "source": [
    "import numpy as np\n",
    "\n",
    "float_data = np.zeros((len(lines), len(header) - 1))\n",
    "for i, line in enumerate(lines):\n",
    "    values = [float(x) for x in line.split(',')[1:]]\n",
    "    float_data[i, :] = values"
   ]
  },
  {
   "cell_type": "code",
   "execution_count": 31,
   "metadata": {},
   "outputs": [
    {
     "data": {
      "text/plain": [
       "[<matplotlib.lines.Line2D at 0xb42a992e8>]"
      ]
     },
     "execution_count": 31,
     "metadata": {},
     "output_type": "execute_result"
    },
    {
     "data": {
      "image/png": "[encoded data removed]",
      "text/plain": [
       "<Figure size 432x288 with 1 Axes>"
      ]
     },
     "metadata": {},
     "output_type": "display_data"
    }
   ],
   "source": [
    "from matplotlib import pyplot as plt\n",
    "\n",
    "temp = float_data[:, 1] \n",
    "plt.plot(range(len(temp)), temp)"
   ]
  },
  {
   "cell_type": "markdown",
   "metadata": {},
   "source": [
    "Preparing the data"
   ]
  },
  {
   "cell_type": "code",
   "execution_count": 32,
   "metadata": {},
   "outputs": [],
   "source": [
    "mean = float_data[:200000].mean(axis=0)\n",
    "float_data -= mean\n",
    "std = float_data[:200000].std(axis=0)\n",
    "float_data /= std"
   ]
  },
  {
   "cell_type": "code",
   "execution_count": 33,
   "metadata": {},
   "outputs": [],
   "source": [
    "def generator(data, lookback, delay, min_index, max_index,\n",
    "              shuffle=False, batch_size=128, step=6):\n",
    "    if max_index is None:\n",
    "        max_index = len(data) - delay - 1\n",
    "    i = min_index + lookback\n",
    "    while 1:\n",
    "        if shuffle:\n",
    "            rows = np.random.randint(\n",
    "                min_index + lookback, max_index, size=batch_size)\n",
    "        else:\n",
    "            if i + batch_size >= max_index:\n",
    "                i = min_index + lookback\n",
    "            rows = np.arange(i, min(i + batch_size, max_index))\n",
    "            i += len(rows)\n",
    "\n",
    "        samples = np.zeros((len(rows),\n",
    "                           lookback // step,\n",
    "                           data.shape[-1]))\n",
    "        targets = np.zeros((len(rows),))\n",
    "        for j, row in enumerate(rows):\n",
    "            indices = range(rows[j] - lookback, rows[j], step)\n",
    "            samples[j] = data[indices]\n",
    "            targets[j] = data[rows[j] + delay][1]\n",
    "        yield samples, targets"
   ]
  },
  {
   "cell_type": "code",
   "execution_count": 34,
   "metadata": {},
   "outputs": [],
   "source": [
    "lookback = 1440\n",
    "step = 6\n",
    "delay = 144\n",
    "batch_size = 128\n",
    "train_gen = generator(float_data,\n",
    "                      lookback=lookback,\n",
    "                      delay=delay,\n",
    "                      min_index=0,\n",
    "                      max_index=200000,\n",
    "                      shuffle=True,\n",
    "                      step=step,\n",
    "                      batch_size=batch_size)\n",
    "val_gen = generator(float_data,\n",
    "                    lookback=lookback,\n",
    "                    delay=delay,\n",
    "                    min_index=200001,\n",
    "                    max_index=300000,\n",
    "                    step=step,\n",
    "                    batch_size=batch_size)\n",
    "test_gen = generator(float_data,\n",
    "                     lookback=lookback,\n",
    "                     delay=delay,\n",
    "                     min_index=300001,\n",
    "                     max_index=None,\n",
    "                     step=step,\n",
    "                     batch_size=batch_size)\n",
    "\n",
    "val_steps = (300000 - 200001 - lookback)\n",
    "\n",
    "test_steps = (len(float_data) - 300001 - lookback)\n",
    "\n"
   ]
  },
  {
   "cell_type": "code",
   "execution_count": 13,
   "metadata": {},
   "outputs": [
    {
     "ename": "KeyboardInterrupt",
     "evalue": "",
     "output_type": "error",
     "traceback": [
      "\u001b[0;31m---------------------------------------------------------------------------\u001b[0m",
      "\u001b[0;31mKeyboardInterrupt\u001b[0m                         Traceback (most recent call last)",
      "\u001b[0;32m<ipython-input-13-bcc3fa48844b>\u001b[0m in \u001b[0;36m<module>\u001b[0;34m()\u001b[0m\n\u001b[1;32m      7\u001b[0m         \u001b[0mbatch_maes\u001b[0m\u001b[0;34m.\u001b[0m\u001b[0mappend\u001b[0m\u001b[0;34m(\u001b[0m\u001b[0mmae\u001b[0m\u001b[0;34m)\u001b[0m\u001b[0;34m\u001b[0m\u001b[0m\n\u001b[1;32m      8\u001b[0m     \u001b[0mprint\u001b[0m\u001b[0;34m(\u001b[0m\u001b[0mnp\u001b[0m\u001b[0;34m.\u001b[0m\u001b[0mmean\u001b[0m\u001b[0;34m(\u001b[0m\u001b[0mbatch_maes\u001b[0m\u001b[0;34m)\u001b[0m\u001b[0;34m)\u001b[0m\u001b[0;34m\u001b[0m\u001b[0m\n\u001b[0;32m----> 9\u001b[0;31m \u001b[0mevaluate_naive_method\u001b[0m\u001b[0;34m(\u001b[0m\u001b[0;34m)\u001b[0m\u001b[0;34m\u001b[0m\u001b[0m\n\u001b[0m",
      "\u001b[0;32m<ipython-input-13-bcc3fa48844b>\u001b[0m in \u001b[0;36mevaluate_naive_method\u001b[0;34m()\u001b[0m\n\u001b[1;32m      2\u001b[0m     \u001b[0mbatch_maes\u001b[0m \u001b[0;34m=\u001b[0m \u001b[0;34m[\u001b[0m\u001b[0;34m]\u001b[0m\u001b[0;34m\u001b[0m\u001b[0m\n\u001b[1;32m      3\u001b[0m     \u001b[0;32mfor\u001b[0m \u001b[0mstep\u001b[0m \u001b[0;32min\u001b[0m \u001b[0mrange\u001b[0m\u001b[0;34m(\u001b[0m\u001b[0mval_steps\u001b[0m\u001b[0;34m)\u001b[0m\u001b[0;34m:\u001b[0m\u001b[0;34m\u001b[0m\u001b[0m\n\u001b[0;32m----> 4\u001b[0;31m         \u001b[0msamples\u001b[0m\u001b[0;34m,\u001b[0m \u001b[0mtargets\u001b[0m \u001b[0;34m=\u001b[0m \u001b[0mnext\u001b[0m\u001b[0;34m(\u001b[0m\u001b[0mval_gen\u001b[0m\u001b[0;34m)\u001b[0m\u001b[0;34m\u001b[0m\u001b[0m\n\u001b[0m\u001b[1;32m      5\u001b[0m         \u001b[0mpreds\u001b[0m \u001b[0;34m=\u001b[0m \u001b[0msamples\u001b[0m\u001b[0;34m[\u001b[0m\u001b[0;34m:\u001b[0m\u001b[0;34m,\u001b[0m \u001b[0;34m-\u001b[0m\u001b[0;36m1\u001b[0m\u001b[0;34m,\u001b[0m \u001b[0;36m1\u001b[0m\u001b[0;34m]\u001b[0m\u001b[0;34m\u001b[0m\u001b[0m\n\u001b[1;32m      6\u001b[0m         \u001b[0mmae\u001b[0m \u001b[0;34m=\u001b[0m \u001b[0mnp\u001b[0m\u001b[0;34m.\u001b[0m\u001b[0mmean\u001b[0m\u001b[0;34m(\u001b[0m\u001b[0mnp\u001b[0m\u001b[0;34m.\u001b[0m\u001b[0mabs\u001b[0m\u001b[0;34m(\u001b[0m\u001b[0mpreds\u001b[0m \u001b[0;34m-\u001b[0m \u001b[0mtargets\u001b[0m\u001b[0;34m)\u001b[0m\u001b[0;34m)\u001b[0m\u001b[0;34m\u001b[0m\u001b[0m\n",
      "\u001b[0;32m<ipython-input-11-f6269879c916>\u001b[0m in \u001b[0;36mgenerator\u001b[0;34m(data, lookback, delay, min_index, max_index, shuffle, batch_size, step)\u001b[0m\n\u001b[1;32m     20\u001b[0m         \u001b[0;32mfor\u001b[0m \u001b[0mj\u001b[0m\u001b[0;34m,\u001b[0m \u001b[0mrow\u001b[0m \u001b[0;32min\u001b[0m \u001b[0menumerate\u001b[0m\u001b[0;34m(\u001b[0m\u001b[0mrows\u001b[0m\u001b[0;34m)\u001b[0m\u001b[0;34m:\u001b[0m\u001b[0;34m\u001b[0m\u001b[0m\n\u001b[1;32m     21\u001b[0m             \u001b[0mindices\u001b[0m \u001b[0;34m=\u001b[0m \u001b[0mrange\u001b[0m\u001b[0;34m(\u001b[0m\u001b[0mrows\u001b[0m\u001b[0;34m[\u001b[0m\u001b[0mj\u001b[0m\u001b[0;34m]\u001b[0m \u001b[0;34m-\u001b[0m \u001b[0mlookback\u001b[0m\u001b[0;34m,\u001b[0m \u001b[0mrows\u001b[0m\u001b[0;34m[\u001b[0m\u001b[0mj\u001b[0m\u001b[0;34m]\u001b[0m\u001b[0;34m,\u001b[0m \u001b[0mstep\u001b[0m\u001b[0;34m)\u001b[0m\u001b[0;34m\u001b[0m\u001b[0m\n\u001b[0;32m---> 22\u001b[0;31m             \u001b[0msamples\u001b[0m\u001b[0;34m[\u001b[0m\u001b[0mj\u001b[0m\u001b[0;34m]\u001b[0m \u001b[0;34m=\u001b[0m \u001b[0mdata\u001b[0m\u001b[0;34m[\u001b[0m\u001b[0mindices\u001b[0m\u001b[0;34m]\u001b[0m\u001b[0;34m\u001b[0m\u001b[0m\n\u001b[0m\u001b[1;32m     23\u001b[0m             \u001b[0mtargets\u001b[0m\u001b[0;34m[\u001b[0m\u001b[0mj\u001b[0m\u001b[0;34m]\u001b[0m \u001b[0;34m=\u001b[0m \u001b[0mdata\u001b[0m\u001b[0;34m[\u001b[0m\u001b[0mrows\u001b[0m\u001b[0;34m[\u001b[0m\u001b[0mj\u001b[0m\u001b[0;34m]\u001b[0m \u001b[0;34m+\u001b[0m \u001b[0mdelay\u001b[0m\u001b[0;34m]\u001b[0m\u001b[0;34m[\u001b[0m\u001b[0;36m1\u001b[0m\u001b[0;34m]\u001b[0m\u001b[0;34m\u001b[0m\u001b[0m\n\u001b[1;32m     24\u001b[0m         \u001b[0;32myield\u001b[0m \u001b[0msamples\u001b[0m\u001b[0;34m,\u001b[0m \u001b[0mtargets\u001b[0m\u001b[0;34m\u001b[0m\u001b[0m\n",
      "\u001b[0;31mKeyboardInterrupt\u001b[0m: "
     ]
    }
   ],
   "source": [
    "def evaluate_naive_method():\n",
    "    batch_maes = []\n",
    "    for step in range(val_steps):\n",
    "        samples, targets = next(val_gen)\n",
    "        preds = samples[:, -1, 1]\n",
    "        mae = np.mean(np.abs(preds - targets))\n",
    "        batch_maes.append(mae)\n",
    "    print(np.mean(batch_maes))\n",
    "evaluate_naive_method()"
   ]
  },
  {
   "cell_type": "markdown",
   "metadata": {},
   "source": [
    "This is the common sense aproach, where we just assume that the temperature 24h from now will be the same as the current temperature. The accuracy obtained from further models asto be bether than this one.\n",
    "We will start by creating a **densely connected model**\n"
   ]
  },
  {
   "cell_type": "code",
   "execution_count": 35,
   "metadata": {},
   "outputs": [
    {
     "name": "stdout",
     "output_type": "stream",
     "text": [
      "Epoch 1/20\n",
      "500/500 [==============================] - 8s 16ms/step - loss: 1.4787 - val_loss: 0.8040\n",
      "Epoch 2/20\n",
      "500/500 [==============================] - 7s 14ms/step - loss: 0.5361 - val_loss: 0.3110\n",
      "Epoch 3/20\n",
      "500/500 [==============================] - 7s 14ms/step - loss: 0.3139 - val_loss: 0.3013\n",
      "Epoch 4/20\n",
      "500/500 [==============================] - 7s 14ms/step - loss: 0.2736 - val_loss: 0.3230\n",
      "Epoch 5/20\n",
      "500/500 [==============================] - 7s 14ms/step - loss: 0.2576 - val_loss: 0.3196\n",
      "Epoch 6/20\n",
      "500/500 [==============================] - 7s 14ms/step - loss: 0.2458 - val_loss: 0.3098\n",
      "Epoch 7/20\n",
      "500/500 [==============================] - 7s 14ms/step - loss: 0.2395 - val_loss: 0.3114\n",
      "Epoch 8/20\n",
      "500/500 [==============================] - 7s 14ms/step - loss: 0.2313 - val_loss: 0.3084\n",
      "Epoch 9/20\n",
      "500/500 [==============================] - 7s 14ms/step - loss: 0.2279 - val_loss: 0.3435\n",
      "Epoch 10/20\n",
      "500/500 [==============================] - 7s 14ms/step - loss: 0.2227 - val_loss: 0.3093\n",
      "Epoch 11/20\n",
      "500/500 [==============================] - 7s 14ms/step - loss: 0.2187 - val_loss: 0.3564\n",
      "Epoch 12/20\n",
      "500/500 [==============================] - 7s 14ms/step - loss: 0.2165 - val_loss: 0.3208\n",
      "Epoch 13/20\n",
      "500/500 [==============================] - 7s 14ms/step - loss: 0.2107 - val_loss: 0.3732\n",
      "Epoch 14/20\n",
      "500/500 [==============================] - 7s 14ms/step - loss: 0.2101 - val_loss: 0.3509\n",
      "Epoch 15/20\n",
      "500/500 [==============================] - 7s 14ms/step - loss: 0.2086 - val_loss: 0.3304\n",
      "Epoch 16/20\n",
      "500/500 [==============================] - 7s 14ms/step - loss: 0.2054 - val_loss: 0.3252\n",
      "Epoch 17/20\n",
      "500/500 [==============================] - 7s 14ms/step - loss: 0.2041 - val_loss: 0.3439\n",
      "Epoch 18/20\n",
      "500/500 [==============================] - 7s 14ms/step - loss: 0.2006 - val_loss: 0.3413\n",
      "Epoch 19/20\n",
      "500/500 [==============================] - 7s 14ms/step - loss: 0.2004 - val_loss: 0.3236\n",
      "Epoch 20/20\n",
      "500/500 [==============================] - 7s 14ms/step - loss: 0.1988 - val_loss: 0.3206\n"
     ]
    }
   ],
   "source": [
    "from keras.models import Sequential\n",
    "from keras import layers\n",
    "from keras.optimizers import RMSprop\n",
    "\n",
    "model = Sequential()\n",
    "model.add(layers.Flatten(input_shape=(lookback // step, float_data.shape[-1])))\n",
    "model.add(layers.Dense(32, activation='relu'))\n",
    "model.add(layers.Dense(1))\n",
    "model.compile(optimizer=RMSprop(), loss='mae')\n",
    "history = model.fit_generator(train_gen,\n",
    "                              steps_per_epoch=500,\n",
    "                              epochs=20,\n",
    "                              validation_data=val_gen,\n",
    "                              validation_steps=500)"
   ]
  },
  {
   "cell_type": "code",
   "execution_count": 36,
   "metadata": {
    "scrolled": true
   },
   "outputs": [
    {
     "data": {
      "image/png": "[encoded data removed]",
      "text/plain": [
       "<Figure size 432x288 with 1 Axes>"
      ]
     },
     "metadata": {},
     "output_type": "display_data"
    }
   ],
   "source": [
    "import matplotlib.pyplot as plt\n",
    "\n",
    "loss = history.history['loss']\n",
    "val_loss = history.history['val_loss']\n",
    "\n",
    "epochs = range(1, len(loss) + 1)\n",
    "\n",
    "plt.figure()\n",
    "\n",
    "plt.plot(epochs, loss, 'bo', label='Training loss')\n",
    "plt.plot(epochs, val_loss, 'b', label='Validation loss')\n",
    "plt.title('Training and validation loss')\n",
    "plt.legend()\n",
    "\n",
    "plt.show()"
   ]
  },
  {
   "cell_type": "markdown",
   "metadata": {},
   "source": [
    "Some of the validation losses are close to the no-learning baseline, but not reliably."
   ]
  },
  {
   "cell_type": "markdown",
   "metadata": {},
   "source": [
    "**Recurrent NN: GRU layer**"
   ]
  },
  {
   "cell_type": "code",
   "execution_count": 37,
   "metadata": {},
   "outputs": [
    {
     "name": "stdout",
     "output_type": "stream",
     "text": [
      "Epoch 1/20\n",
      "500/500 [==============================] - 54s 108ms/step - loss: 0.3011 - val_loss: 0.2675\n",
      "Epoch 2/20\n",
      "500/500 [==============================] - 53s 105ms/step - loss: 0.2850 - val_loss: 0.2746\n",
      "Epoch 3/20\n",
      "500/500 [==============================] - 53s 106ms/step - loss: 0.2800 - val_loss: 0.2708\n",
      "Epoch 4/20\n",
      "500/500 [==============================] - 53s 107ms/step - loss: 0.2735 - val_loss: 0.2697\n",
      "Epoch 5/20\n",
      "500/500 [==============================] - 52s 105ms/step - loss: 0.2677 - val_loss: 0.2583\n",
      "Epoch 6/20\n",
      "500/500 [==============================] - 53s 105ms/step - loss: 0.2635 - val_loss: 0.2628\n",
      "Epoch 7/20\n",
      "500/500 [==============================] - 53s 105ms/step - loss: 0.2593 - val_loss: 0.2592\n",
      "Epoch 8/20\n",
      "500/500 [==============================] - 53s 105ms/step - loss: 0.2532 - val_loss: 0.2606\n",
      "Epoch 9/20\n",
      "500/500 [==============================] - 53s 106ms/step - loss: 0.2485 - val_loss: 0.2709\n",
      "Epoch 10/20\n",
      "500/500 [==============================] - 53s 105ms/step - loss: 0.2465 - val_loss: 0.2667\n",
      "Epoch 11/20\n",
      "500/500 [==============================] - 53s 105ms/step - loss: 0.2431 - val_loss: 0.2634\n",
      "Epoch 12/20\n",
      "500/500 [==============================] - 53s 105ms/step - loss: 0.2369 - val_loss: 0.2754\n",
      "Epoch 13/20\n",
      "500/500 [==============================] - 53s 106ms/step - loss: 0.2346 - val_loss: 0.2688\n",
      "Epoch 14/20\n",
      "500/500 [==============================] - 54s 107ms/step - loss: 0.2308 - val_loss: 0.2694\n",
      "Epoch 15/20\n",
      "500/500 [==============================] - 53s 106ms/step - loss: 0.2260 - val_loss: 0.2849\n",
      "Epoch 16/20\n",
      "500/500 [==============================] - 53s 106ms/step - loss: 0.2243 - val_loss: 0.2807\n",
      "Epoch 17/20\n",
      "500/500 [==============================] - 53s 105ms/step - loss: 0.2191 - val_loss: 0.2772\n",
      "Epoch 18/20\n",
      "500/500 [==============================] - 53s 107ms/step - loss: 0.2174 - val_loss: 0.3061\n",
      "Epoch 19/20\n",
      "500/500 [==============================] - 53s 106ms/step - loss: 0.2139 - val_loss: 0.2881\n",
      "Epoch 20/20\n",
      "500/500 [==============================] - 54s 107ms/step - loss: 0.2111 - val_loss: 0.2873\n"
     ]
    }
   ],
   "source": [
    "from keras.models import Sequential\n",
    "from keras import layers\n",
    "from keras.optimizers import RMSprop\n",
    "\n",
    "model = Sequential()\n",
    "model.add(layers.GRU(32, input_shape=(None, float_data.shape[-1])))\n",
    "model.add(layers.Dense(1))\n",
    "\n",
    "model.compile(optimizer=RMSprop(), loss='mae')\n",
    "history = model.fit_generator(train_gen,\n",
    "                              steps_per_epoch=500,\n",
    "                              epochs=20,\n",
    "                              validation_data=val_gen,\n",
    "                              validation_steps=500)"
   ]
  },
  {
   "cell_type": "code",
   "execution_count": 38,
   "metadata": {},
   "outputs": [
    {
     "data": {
      "image/png": "[encoded data removed]",
      "text/plain": [
       "<Figure size 432x288 with 1 Axes>"
      ]
     },
     "metadata": {},
     "output_type": "display_data"
    }
   ],
   "source": [
    "loss = history.history['loss']\n",
    "val_loss = history.history['val_loss']\n",
    "\n",
    "epochs = range(1, len(loss) + 1)\n",
    "\n",
    "plt.figure()\n",
    "\n",
    "plt.plot(epochs, loss, 'bo', label='Training loss')\n",
    "plt.plot(epochs, val_loss, 'b', label='Validation loss')\n",
    "plt.title('Training and validation loss')\n",
    "plt.legend()\n",
    "\n",
    "plt.show()"
   ]
  },
  {
   "cell_type": "markdown",
   "metadata": {},
   "source": [
    "We can see that the validation MAE is around 0.265 before it starts overfitting, which is an improvement when compared to the results obtained in the densely connected example."
   ]
  },
  {
   "cell_type": "markdown",
   "metadata": {},
   "source": [
    "## Using recurrent dropout to fight overfitting"
   ]
  },
  {
   "cell_type": "code",
   "execution_count": 40,
   "metadata": {},
   "outputs": [
    {
     "name": "stdout",
     "output_type": "stream",
     "text": [
      "Epoch 1/40\n",
      "500/500 [==============================] - 62s 125ms/step - loss: 0.3333 - val_loss: 0.2755\n",
      "Epoch 2/40\n",
      "500/500 [==============================] - 61s 122ms/step - loss: 0.3139 - val_loss: 0.2798\n",
      "Epoch 3/40\n",
      "500/500 [==============================] - 61s 122ms/step - loss: 0.3071 - val_loss: 0.2656\n",
      "Epoch 4/40\n",
      "500/500 [==============================] - 61s 122ms/step - loss: 0.3017 - val_loss: 0.2656\n",
      "Epoch 5/40\n",
      "500/500 [==============================] - 62s 124ms/step - loss: 0.2998 - val_loss: 0.2802\n",
      "Epoch 6/40\n",
      "500/500 [==============================] - 61s 122ms/step - loss: 0.2955 - val_loss: 0.2634\n",
      "Epoch 7/40\n",
      "500/500 [==============================] - 61s 122ms/step - loss: 0.2941 - val_loss: 0.2627\n",
      "Epoch 8/40\n",
      "500/500 [==============================] - 62s 123ms/step - loss: 0.2937 - val_loss: 0.2827\n",
      "Epoch 9/40\n",
      "500/500 [==============================] - 61s 122ms/step - loss: 0.2913 - val_loss: 0.2582\n",
      "Epoch 10/40\n",
      "500/500 [==============================] - 61s 122ms/step - loss: 0.2908 - val_loss: 0.2627\n",
      "Epoch 11/40\n",
      "500/500 [==============================] - 61s 122ms/step - loss: 0.2879 - val_loss: 0.2762\n",
      "Epoch 12/40\n",
      "500/500 [==============================] - 61s 122ms/step - loss: 0.2871 - val_loss: 0.2566\n",
      "Epoch 13/40\n",
      "500/500 [==============================] - 61s 122ms/step - loss: 0.2843 - val_loss: 0.2632\n",
      "Epoch 14/40\n",
      "500/500 [==============================] - 61s 122ms/step - loss: 0.2851 - val_loss: 0.2730\n",
      "Epoch 15/40\n",
      "500/500 [==============================] - 62s 123ms/step - loss: 0.2825 - val_loss: 0.2581\n",
      "Epoch 16/40\n",
      "500/500 [==============================] - 61s 122ms/step - loss: 0.2819 - val_loss: 0.2622\n",
      "Epoch 17/40\n",
      "500/500 [==============================] - 61s 122ms/step - loss: 0.2796 - val_loss: 0.2794\n",
      "Epoch 18/40\n",
      "500/500 [==============================] - 61s 121ms/step - loss: 0.2800 - val_loss: 0.2656\n",
      "Epoch 19/40\n",
      "500/500 [==============================] - 61s 123ms/step - loss: 0.2780 - val_loss: 0.2614\n",
      "Epoch 20/40\n",
      "500/500 [==============================] - 61s 122ms/step - loss: 0.2772 - val_loss: 0.2775\n",
      "Epoch 21/40\n",
      "500/500 [==============================] - 61s 122ms/step - loss: 0.2765 - val_loss: 0.2621\n",
      "Epoch 22/40\n",
      "500/500 [==============================] - 61s 122ms/step - loss: 0.2752 - val_loss: 0.2717\n",
      "Epoch 23/40\n",
      "500/500 [==============================] - 61s 122ms/step - loss: 0.2733 - val_loss: 0.2819\n",
      "Epoch 24/40\n",
      "500/500 [==============================] - 61s 122ms/step - loss: 0.2735 - val_loss: 0.2618\n",
      "Epoch 25/40\n",
      "500/500 [==============================] - 61s 123ms/step - loss: 0.2740 - val_loss: 0.2617\n",
      "Epoch 26/40\n",
      "500/500 [==============================] - 61s 122ms/step - loss: 0.2729 - val_loss: 0.2779\n",
      "Epoch 27/40\n",
      "500/500 [==============================] - 61s 122ms/step - loss: 0.2698 - val_loss: 0.2617\n",
      "Epoch 28/40\n",
      "500/500 [==============================] - 61s 122ms/step - loss: 0.2720 - val_loss: 0.2629\n",
      "Epoch 29/40\n",
      "500/500 [==============================] - 61s 122ms/step - loss: 0.2712 - val_loss: 0.2725\n",
      "Epoch 30/40\n",
      "500/500 [==============================] - 61s 122ms/step - loss: 0.2702 - val_loss: 0.2585\n",
      "Epoch 31/40\n",
      "500/500 [==============================] - 61s 122ms/step - loss: 0.2693 - val_loss: 0.2633\n",
      "Epoch 32/40\n",
      "500/500 [==============================] - 61s 122ms/step - loss: 0.2689 - val_loss: 0.2781\n",
      "Epoch 33/40\n",
      "500/500 [==============================] - 61s 122ms/step - loss: 0.2685 - val_loss: 0.2526\n",
      "Epoch 34/40\n",
      "500/500 [==============================] - 61s 122ms/step - loss: 0.2696 - val_loss: 0.2679\n",
      "Epoch 35/40\n",
      "500/500 [==============================] - 61s 122ms/step - loss: 0.2682 - val_loss: 0.2749\n",
      "Epoch 36/40\n",
      "500/500 [==============================] - 61s 122ms/step - loss: 0.2665 - val_loss: 0.2594\n",
      "Epoch 37/40\n",
      "500/500 [==============================] - 61s 121ms/step - loss: 0.2681 - val_loss: 0.2805\n",
      "Epoch 38/40\n",
      "500/500 [==============================] - 61s 122ms/step - loss: 0.2658 - val_loss: 0.2742\n",
      "Epoch 39/40\n",
      "500/500 [==============================] - 61s 121ms/step - loss: 0.2671 - val_loss: 0.2551\n",
      "Epoch 40/40\n",
      "500/500 [==============================] - 61s 122ms/step - loss: 0.2663 - val_loss: 0.2810\n"
     ]
    }
   ],
   "source": [
    "from keras.models import Sequential\n",
    "from keras import layers\n",
    "from keras.optimizers import RMSprop\n",
    "\n",
    "model = Sequential()\n",
    "model.add(layers.GRU(32,\n",
    "                     dropout=0.2,\n",
    "                     recurrent_dropout=0.2,\n",
    "                     input_shape=(None, float_data.shape[-1])))\n",
    "model.add(layers.Dense(1))\n",
    "\n",
    "model.compile(optimizer=RMSprop(), loss='mae')\n",
    "history = model.fit_generator(train_gen,\n",
    "                              steps_per_epoch=500,\n",
    "                              epochs=40,\n",
    "                              validation_data=val_gen,\n",
    "                              validation_steps=500)"
   ]
  },
  {
   "cell_type": "code",
   "execution_count": 41,
   "metadata": {},
   "outputs": [
    {
     "data": {
      "image/png": "[encoded data removed]",
      "text/plain": [
       "<Figure size 432x288 with 1 Axes>"
      ]
     },
     "metadata": {},
     "output_type": "display_data"
    }
   ],
   "source": [
    "loss = history.history['loss']\n",
    "val_loss = history.history['val_loss']\n",
    "\n",
    "epochs = range(1, len(loss) + 1)\n",
    "\n",
    "plt.figure()\n",
    "\n",
    "plt.plot(epochs, loss, 'bo', label='Training loss')\n",
    "plt.plot(epochs, val_loss, 'b', label='Validation loss')\n",
    "plt.title('Training and validation loss')\n",
    "plt.legend()\n",
    "\n",
    "plt.show()"
   ]
  },
  {
   "cell_type": "markdown",
   "metadata": {},
   "source": [
    "We were able to solve the overfitting problem but we encounter a performance bottleneck since the scores are not much better than they were before,so solve this we will increase the network capacity"
   ]
  },
  {
   "cell_type": "markdown",
   "metadata": {},
   "source": [
    "## Stacking recurrent layers"
   ]
  },
  {
   "cell_type": "code",
   "execution_count": null,
   "metadata": {},
   "outputs": [],
   "source": [
    "from keras.models import Sequential\n",
    "from keras import layers\n",
    "from keras.optimizers import RMSprop\n",
    "\n",
    "model = Sequential()\n",
    "model.add(layers.GRU(32,\n",
    "                     dropout=0.1,\n",
    "                     recurrent_dropout=0.5,\n",
    "                     return_sequences=True,\n",
    "                     input_shape=(None, float_data.shape[-1])))\n",
    "model.add(layers.GRU(64, activation='relu',\n",
    "                     dropout=0.1,\n",
    "                     recurrent_dropout=0.5))\n",
    "model.add(layers.Dense(1))\n",
    "\n",
    "model.compile(optimizer=RMSprop(), loss='mae')\n",
    "history = model.fit_generator(train_gen,\n",
    "                              steps_per_epoch=500,\n",
    "                              epochs=40,\n",
    "                              validation_data=val_gen,\n",
    "                              validation_steps=val_steps)"
   ]
  },
  {
   "cell_type": "markdown",
   "metadata": {},
   "source": [
    "## Bidirectional RNN"
   ]
  },
  {
   "cell_type": "markdown",
   "metadata": {},
   "source": [
    "we will start by testing the model in reverse chronological order, to test the hypothesis that in text its possible to understand in reverse order."
   ]
  },
  {
   "cell_type": "code",
   "execution_count": 43,
   "metadata": {},
   "outputs": [
    {
     "name": "stdout",
     "output_type": "stream",
     "text": [
      "Train on 20000 samples, validate on 5000 samples\n",
      "Epoch 1/10\n",
      "20000/20000 [==============================] - 58s 3ms/step - loss: 0.4883 - acc: 0.7671 - val_loss: 0.3865 - val_acc: 0.8466\n",
      "Epoch 2/10\n",
      "20000/20000 [==============================] - 56s 3ms/step - loss: 0.3160 - acc: 0.8792 - val_loss: 0.3330 - val_acc: 0.8726\n",
      "Epoch 3/10\n",
      "20000/20000 [==============================] - 56s 3ms/step - loss: 0.2604 - acc: 0.9021 - val_loss: 0.3287 - val_acc: 0.8732\n",
      "Epoch 4/10\n",
      "20000/20000 [==============================] - 59s 3ms/step - loss: 0.2209 - acc: 0.9193 - val_loss: 0.5315 - val_acc: 0.7954\n",
      "Epoch 5/10\n",
      "20000/20000 [==============================] - 56s 3ms/step - loss: 0.1963 - acc: 0.9303 - val_loss: 0.3986 - val_acc: 0.8716\n",
      "Epoch 6/10\n",
      "20000/20000 [==============================] - 56s 3ms/step - loss: 0.1780 - acc: 0.9390 - val_loss: 0.3863 - val_acc: 0.8760\n",
      "Epoch 7/10\n",
      "20000/20000 [==============================] - 56s 3ms/step - loss: 0.1562 - acc: 0.9456 - val_loss: 0.3696 - val_acc: 0.8738\n",
      "Epoch 8/10\n",
      "20000/20000 [==============================] - 58s 3ms/step - loss: 0.1435 - acc: 0.9523 - val_loss: 0.3810 - val_acc: 0.8704\n",
      "Epoch 9/10\n",
      "20000/20000 [==============================] - 57s 3ms/step - loss: 0.1315 - acc: 0.9566 - val_loss: 0.3976 - val_acc: 0.8550\n",
      "Epoch 10/10\n",
      "20000/20000 [==============================] - 58s 3ms/step - loss: 0.1251 - acc: 0.9573 - val_loss: 0.4482 - val_acc: 0.8750\n"
     ]
    }
   ],
   "source": [
    "from keras.datasets import imdb\n",
    "from keras.preprocessing import sequence\n",
    "from keras import layers\n",
    "from keras.models import Sequential\n",
    "\n",
    "max_features = 10000\n",
    "maxlen = 500\n",
    "\n",
    "(x_train, y_train), (x_test, y_test) = imdb.load_data(\n",
    "    num_words=max_features)\n",
    "\n",
    "x_train = [x[::-1] for x in x_train]\n",
    "x_test = [x[::-1] for x in x_test]\n",
    "\n",
    "x_train = sequence.pad_sequences(x_train, maxlen=maxlen)\n",
    "x_test = sequence.pad_sequences(x_test, maxlen=maxlen)\n",
    "\n",
    "model = Sequential()\n",
    "model.add(layers.Embedding(max_features, 128))\n",
    "model.add(layers.LSTM(32))\n",
    "model.add(layers.Dense(1, activation='sigmoid'))\n",
    "\n",
    "model.compile(optimizer='rmsprop',\n",
    "              loss='binary_crossentropy',\n",
    "              metrics=['acc'])\n",
    "history = model.fit(x_train, y_train,\n",
    "                    epochs=10,\n",
    "                    batch_size=128,\n",
    "                    validation_split=0.2)\n",
    "\n"
   ]
  },
  {
   "cell_type": "markdown",
   "metadata": {},
   "source": [
    "We obtain results similar to when performing the model in the correct order. We will now apply the bidirectional layer"
   ]
  },
  {
   "cell_type": "code",
   "execution_count": 44,
   "metadata": {},
   "outputs": [
    {
     "name": "stdout",
     "output_type": "stream",
     "text": [
      "Train on 20000 samples, validate on 5000 samples\n",
      "Epoch 1/10\n",
      "20000/20000 [==============================] - 67s 3ms/step - loss: 0.5567 - acc: 0.7176 - val_loss: 0.4163 - val_acc: 0.8384\n",
      "Epoch 2/10\n",
      "20000/20000 [==============================] - 65s 3ms/step - loss: 0.3379 - acc: 0.8678 - val_loss: 0.3119 - val_acc: 0.8790\n",
      "Epoch 3/10\n",
      "20000/20000 [==============================] - 63s 3ms/step - loss: 0.2720 - acc: 0.9018 - val_loss: 0.3962 - val_acc: 0.8674\n",
      "Epoch 4/10\n",
      "20000/20000 [==============================] - 63s 3ms/step - loss: 0.2263 - acc: 0.9174 - val_loss: 0.3400 - val_acc: 0.8788\n",
      "Epoch 5/10\n",
      "20000/20000 [==============================] - 62s 3ms/step - loss: 0.2059 - acc: 0.9268 - val_loss: 0.3906 - val_acc: 0.8736\n",
      "Epoch 6/10\n",
      "20000/20000 [==============================] - 63s 3ms/step - loss: 0.1843 - acc: 0.9357 - val_loss: 0.3745 - val_acc: 0.8772\n",
      "Epoch 7/10\n",
      "20000/20000 [==============================] - 63s 3ms/step - loss: 0.1737 - acc: 0.9408 - val_loss: 0.3334 - val_acc: 0.8704\n",
      "Epoch 8/10\n",
      "20000/20000 [==============================] - 63s 3ms/step - loss: 0.1510 - acc: 0.9494 - val_loss: 0.4480 - val_acc: 0.8166\n",
      "Epoch 9/10\n",
      "20000/20000 [==============================] - 64s 3ms/step - loss: 0.1421 - acc: 0.9516 - val_loss: 0.4038 - val_acc: 0.8468\n",
      "Epoch 10/10\n",
      "20000/20000 [==============================] - 63s 3ms/step - loss: 0.1319 - acc: 0.9569 - val_loss: 0.3773 - val_acc: 0.8732\n"
     ]
    }
   ],
   "source": [
    "model = Sequential()\n",
    "model.add(layers.Embedding(max_features, 32))\n",
    "model.add(layers.Bidirectional(layers.LSTM(32)))\n",
    "model.add(layers.Dense(1, activation='sigmoid'))\n",
    "\n",
    "model.compile(optimizer='rmsprop', loss='binary_crossentropy', metrics=['acc'])\n",
    "history = model.fit(x_train, y_train,\n",
    "                    epochs=10,\n",
    "                    batch_size=128,\n",
    "                    validation_split=0.2)"
   ]
  },
  {
   "cell_type": "code",
   "execution_count": null,
   "metadata": {},
   "outputs": [],
   "source": []
  }
 ],
 "metadata": {
  "kernelspec": {
   "display_name": "Python 3",
   "language": "python",
   "name": "python3"
  },
  "language_info": {
   "codemirror_mode": {
    "name": "ipython",
    "version": 3
   },
   "file_extension": ".py",
   "mimetype": "text/x-python",
   "name": "python",
   "nbconvert_exporter": "python",
   "pygments_lexer": "ipython3",
   "version": "3.6.5"
  }
 },
 "nbformat": 4,
 "nbformat_minor": 2
}
