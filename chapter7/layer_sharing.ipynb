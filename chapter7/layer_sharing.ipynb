{
 "cells": [
  {
   "cell_type": "markdown",
   "metadata": {},
   "source": [
    "In the case where we have to separate branches that are trying to learn the same makes sense to have the layers with the same weights in both branches, this is performe by doing a Siamese LSTM"
   ]
  },
  {
   "cell_type": "code",
   "execution_count": null,
   "metadata": {},
   "outputs": [],
   "source": [
    "from keras import layers\n",
    "from keras import Input\n",
    "from keras.models import Model\n",
    "\n",
    "# Instantiates a single LSTM layer, once\n",
    "lstm=layers.LSTM(32)\n",
    "# Building the left branch of the model: inputs are variable-length sequences of vectors of size 128\n",
    "left_input=Input(shape=(None,128))\n",
    "left_output=lstm(left_input)\n",
    "#Building the right branch of the model: when you call an existing layer instance, you reuse its weights\n",
    "right_input=Input(shape=(None,128))\n",
    "right_output=lstm(right_input)\n",
    "# Builds the classifier on top\n",
    "merged = layers.concatenate([left_output, right_output], axis=-1)\n",
    "predictions = layers.Dense(1, activation='sigmoid')(merged)\n",
    "# Instntiating and training the model: when you train such a model, the wieghts of the LSTM\n",
    "# layers are updated based n both inputs.\n",
    "model = Model([left_input, right_input], predictions)\n",
    "model.fit([left_data, right_data], targets)\n"
   ]
  }
 ],
 "metadata": {
  "kernelspec": {
   "display_name": "Python 3",
   "language": "python",
   "name": "python3"
  },
  "language_info": {
   "codemirror_mode": {
    "name": "ipython",
    "version": 3
   },
   "file_extension": ".py",
   "mimetype": "text/x-python",
   "name": "python",
   "nbconvert_exporter": "python",
   "pygments_lexer": "ipython3",
   "version": "3.6.5"
  }
 },
 "nbformat": 4,
 "nbformat_minor": 2
}
