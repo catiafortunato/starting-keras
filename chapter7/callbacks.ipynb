{
 "cells": [
  {
   "cell_type": "markdown",
   "metadata": {},
   "source": [
    "## Model checkpoint and earlyStopping callbacks"
   ]
  },
  {
   "cell_type": "code",
   "execution_count": 2,
   "metadata": {},
   "outputs": [
    {
     "name": "stderr",
     "output_type": "stream",
     "text": [
      "/Users/admin/anaconda3/lib/python3.6/site-packages/h5py/__init__.py:36: FutureWarning: Conversion of the second argument of issubdtype from `float` to `np.floating` is deprecated. In future, it will be treated as `np.float64 == np.dtype(float).type`.\n",
      "  from ._conv import register_converters as _register_converters\n",
      "Using TensorFlow backend.\n"
     ]
    },
    {
     "ename": "NameError",
     "evalue": "name 'model' is not defined",
     "output_type": "error",
     "traceback": [
      "\u001b[0;31m---------------------------------------------------------------------------\u001b[0m",
      "\u001b[0;31mNameError\u001b[0m                                 Traceback (most recent call last)",
      "\u001b[0;32m<ipython-input-2-b73fa0b6159a>\u001b[0m in \u001b[0;36m<module>\u001b[0;34m()\u001b[0m\n\u001b[1;32m     19\u001b[0m ]\n\u001b[1;32m     20\u001b[0m \u001b[0;34m\u001b[0m\u001b[0m\n\u001b[0;32m---> 21\u001b[0;31m model.compile(optimizer='rmsprop',\n\u001b[0m\u001b[1;32m     22\u001b[0m               \u001b[0mloss\u001b[0m\u001b[0;34m=\u001b[0m\u001b[0;34m'binary_crossentropy'\u001b[0m\u001b[0;34m,\u001b[0m\u001b[0;34m\u001b[0m\u001b[0m\n\u001b[1;32m     23\u001b[0m               \u001b[0;31m# we are monitoring accurcy so it should be part of the models metrics\u001b[0m\u001b[0;34m\u001b[0m\u001b[0;34m\u001b[0m\u001b[0m\n",
      "\u001b[0;31mNameError\u001b[0m: name 'model' is not defined"
     ]
    }
   ],
   "source": [
    "import keras\n",
    "    # Callbacks are passed to the model via the callbacks argument in fit, which takes a list\n",
    "    # of callbacks. you can pass any number of callbacks\n",
    "callbacks_list = [\n",
    "    # Interrupts training when improvement stops\n",
    "    keras.callbacks.EarlyStopping(\n",
    "        monitor='acc', # Monitors the model's validation accuracy\n",
    "        patience=1, # Stops the mtraining when the accuracy as stopped improving for more than 1 epoch\n",
    "    ),\n",
    "    # Saves the current weights after every epoch\n",
    "    keras.callbacks.ModelCheckpoint(\n",
    "        # Path to the destination model file\n",
    "        filepath='my_model.h5',\n",
    "        # These two arguments say that you will not overwrite the file unless the accuracy as \n",
    "        # improved, which means w are currently saving the best model\n",
    "        monitor='val_loss',\n",
    "        save_best_only=True,\n",
    "    )\n",
    "]\n",
    "\n",
    "model.compile(optimizer='rmsprop',\n",
    "              loss='binary_crossentropy',\n",
    "              # we are monitoring accurcy so it should be part of the models metrics\n",
    "              metrics=['acc'])\n",
    "\n",
    "model.fit(x, y,\n",
    "          epochs=10,\n",
    "          batch_size=32,\n",
    "          callbacks=callbacks_list,\n",
    "          validation_data=(x_val, y_val))\n",
    "# Note that because the callbacks willl monitor validation loss and validation accuracy, we\n",
    "# need to pass validation_data to the cll to fit\n",
    "\t\t  "
   ]
  },
  {
   "cell_type": "markdown",
   "metadata": {},
   "source": [
    "## The ReduceLROnPlateau call back"
   ]
  },
  {
   "cell_type": "code",
   "execution_count": null,
   "metadata": {},
   "outputs": [],
   "source": [
    "callbacks_list = [\n",
    "    keras.callbacks.ReduceLROnPlateau(\n",
    "        # Monitors the model's validation loss\n",
    "        monitor='val_loss'\n",
    "        # Devides the learning rate by 10 when triggered\n",
    "        factor=0.1,\n",
    "        # The callback is triggered after the validation loss has stopped improving for 10 epochs\n",
    "        patience=10,\n",
    "    )\n",
    "]\n",
    "\n",
    "model.fit(x, y,\n",
    "          epochs=10,\n",
    "          batch_size=32,\n",
    "          callbacks=callbacks_list,\n",
    "          validation_data=(x_val, y_val))\n",
    "# Because the callback will monito the validation loss, we needto pass the validation_data to the call to fit"
   ]
  }
 ],
 "metadata": {
  "kernelspec": {
   "display_name": "Python 3",
   "language": "python",
   "name": "python3"
  },
  "language_info": {
   "codemirror_mode": {
    "name": "ipython",
    "version": 3
   },
   "file_extension": ".py",
   "mimetype": "text/x-python",
   "name": "python",
   "nbconvert_exporter": "python",
   "pygments_lexer": "ipython3",
   "version": "3.6.5"
  }
 },
 "nbformat": 4,
 "nbformat_minor": 2
}
