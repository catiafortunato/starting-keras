{
 "cells": [
  {
   "cell_type": "code",
   "execution_count": 1,
   "metadata": {},
   "outputs": [
    {
     "name": "stderr",
     "output_type": "stream",
     "text": [
      "/anaconda2/lib/python2.7/site-packages/h5py/__init__.py:36: FutureWarning: Conversion of the second argument of issubdtype from `float` to `np.floating` is deprecated. In future, it will be treated as `np.float64 == np.dtype(float).type`.\n",
      "  from ._conv import register_converters as _register_converters\n",
      "Using TensorFlow backend.\n"
     ]
    }
   ],
   "source": [
    "from keras.datasets import imdb\n",
    "\n",
    "(train_data, train_labels), (test_data, test_labels) = imdb.load_data(\n",
    "    num_words=10000)"
   ]
  },
  {
   "cell_type": "markdown",
   "metadata": {},
   "source": [
    "# IMDB review classifier"
   ]
  },
  {
   "cell_type": "markdown",
   "metadata": {},
   "source": [
    "Data base of 50000 movie revies that will be split into 25k for training and 25k for testing, each of which have 50% of negative reviews and 50% of positive reviews. num_words=10k means that only the top 10k most used words will be taken into account."
   ]
  },
  {
   "cell_type": "code",
   "execution_count": 2,
   "metadata": {},
   "outputs": [],
   "source": [
    "import numpy as np\n",
    "\n",
    "def vectorize_sequences(sequences, dimension=10000):\n",
    "    results = np.zeros((len(sequences), dimension))\n",
    "    for i, sequence in enumerate(sequences):\n",
    "        results[i, sequence] = 1.\n",
    "    return results\n",
    "\n",
    "x_train = vectorize_sequences(train_data)\n",
    "x_test = vectorize_sequences(test_data)\n"
   ]
  },
  {
   "cell_type": "code",
   "execution_count": 3,
   "metadata": {},
   "outputs": [],
   "source": [
    "y_train = np.asarray(train_labels).astype('float32')\n",
    "y_test = np.asarray(test_labels).astype('float32')"
   ]
  },
  {
   "cell_type": "code",
   "execution_count": 4,
   "metadata": {},
   "outputs": [],
   "source": [
    "from keras import models\n",
    "from keras import layers\n",
    "\n",
    "model = models.Sequential()\n",
    "model.add(layers.Dense(16, activation='relu', input_shape=(10000,)))\n",
    "model.add(layers.Dense(16, activation='relu'))\n",
    "model.add(layers.Dense(1, activation='sigmoid'))"
   ]
  },
  {
   "cell_type": "markdown",
   "metadata": {},
   "source": [
    "We start by creating a network with 2 intermidiate layers with 16 hidden units each, and an output layer. The first one uses relu as activation function and the seconds one uses sigmoid in order to output a probability, a number between 0 and 1. "
   ]
  },
  {
   "cell_type": "code",
   "execution_count": 5,
   "metadata": {},
   "outputs": [],
   "source": [
    "model.compile(optimizer='rmsprop',\n",
    "              loss='binary_crossentropy',\n",
    "              metrics=['accuracy'])"
   ]
  },
  {
   "cell_type": "markdown",
   "metadata": {},
   "source": [
    "Here we choose the loss function and the optimized. We choose crossentropy, because it computes the distance between probability distributions, which is helpfull since the last layers outputs a probability. "
   ]
  },
  {
   "cell_type": "code",
   "execution_count": 6,
   "metadata": {},
   "outputs": [],
   "source": [
    "x_val = x_train[:10000]\n",
    "partial_x_train = x_train[10000:]\n",
    "y_val = y_train[:10000]\n",
    "partial_y_train = y_train[10000:]"
   ]
  },
  {
   "cell_type": "code",
   "execution_count": 7,
   "metadata": {},
   "outputs": [
    {
     "name": "stdout",
     "output_type": "stream",
     "text": [
      "Train on 15000 samples, validate on 10000 samples\n",
      "Epoch 1/20\n",
      "15000/15000 [==============================] - 4s 244us/step - loss: 0.5084 - acc: 0.7813 - val_loss: 0.3797 - val_acc: 0.8686\n",
      "Epoch 2/20\n",
      "15000/15000 [==============================] - 2s 145us/step - loss: 0.3004 - acc: 0.9049 - val_loss: 0.3004 - val_acc: 0.8895\n",
      "Epoch 3/20\n",
      "15000/15000 [==============================] - 2s 108us/step - loss: 0.2179 - acc: 0.9286 - val_loss: 0.3086 - val_acc: 0.8711\n",
      "Epoch 4/20\n",
      "15000/15000 [==============================] - 2s 106us/step - loss: 0.1751 - acc: 0.9438 - val_loss: 0.2840 - val_acc: 0.8832\n",
      "Epoch 5/20\n",
      "15000/15000 [==============================] - 2s 123us/step - loss: 0.1427 - acc: 0.9543 - val_loss: 0.2841 - val_acc: 0.8872\n",
      "Epoch 6/20\n",
      "15000/15000 [==============================] - 2s 122us/step - loss: 0.1150 - acc: 0.9650 - val_loss: 0.3163 - val_acc: 0.8771\n",
      "Epoch 7/20\n",
      "15000/15000 [==============================] - 2s 109us/step - loss: 0.0980 - acc: 0.9707 - val_loss: 0.3127 - val_acc: 0.8845\n",
      "Epoch 8/20\n",
      "15000/15000 [==============================] - 2s 107us/step - loss: 0.0807 - acc: 0.9763 - val_loss: 0.3857 - val_acc: 0.8650\n",
      "Epoch 9/20\n",
      "15000/15000 [==============================] - 2s 113us/step - loss: 0.0661 - acc: 0.9821 - val_loss: 0.3635 - val_acc: 0.8782\n",
      "Epoch 10/20\n",
      "15000/15000 [==============================] - 2s 109us/step - loss: 0.0562 - acc: 0.9852 - val_loss: 0.3842 - val_acc: 0.8795\n",
      "Epoch 11/20\n",
      "15000/15000 [==============================] - 2s 114us/step - loss: 0.0437 - acc: 0.9896 - val_loss: 0.4151 - val_acc: 0.8782\n",
      "Epoch 12/20\n",
      "15000/15000 [==============================] - 2s 108us/step - loss: 0.0380 - acc: 0.9920 - val_loss: 0.4536 - val_acc: 0.8685\n",
      "Epoch 13/20\n",
      "15000/15000 [==============================] - 2s 112us/step - loss: 0.0300 - acc: 0.9928 - val_loss: 0.4701 - val_acc: 0.8727\n",
      "Epoch 14/20\n",
      "15000/15000 [==============================] - 2s 110us/step - loss: 0.0247 - acc: 0.9945 - val_loss: 0.5025 - val_acc: 0.8724\n",
      "Epoch 15/20\n",
      "15000/15000 [==============================] - 2s 116us/step - loss: 0.0185 - acc: 0.9971 - val_loss: 0.5305 - val_acc: 0.8703\n",
      "Epoch 16/20\n",
      "15000/15000 [==============================] - 2s 108us/step - loss: 0.0178 - acc: 0.9961 - val_loss: 0.5637 - val_acc: 0.8704\n",
      "Epoch 17/20\n",
      "15000/15000 [==============================] - 2s 108us/step - loss: 0.0110 - acc: 0.9991 - val_loss: 0.6000 - val_acc: 0.8674\n",
      "Epoch 18/20\n",
      "15000/15000 [==============================] - 2s 110us/step - loss: 0.0129 - acc: 0.9973 - val_loss: 0.6321 - val_acc: 0.8668\n",
      "Epoch 19/20\n",
      "15000/15000 [==============================] - 2s 117us/step - loss: 0.0062 - acc: 0.9996 - val_loss: 0.7274 - val_acc: 0.8547\n",
      "Epoch 20/20\n",
      "15000/15000 [==============================] - 2s 109us/step - loss: 0.0057 - acc: 0.9998 - val_loss: 0.7193 - val_acc: 0.8607\n"
     ]
    }
   ],
   "source": [
    "model.compile(optimizer='rmsprop',\n",
    "              loss='binary_crossentropy',\n",
    "              metrics=['acc'])\n",
    "\n",
    "history = model.fit(partial_x_train,\n",
    "                    partial_y_train,\n",
    "                    epochs=20,\n",
    "                    batch_size=512,\n",
    "                    validation_data=(x_val, y_val))"
   ]
  },
  {
   "cell_type": "code",
   "execution_count": 9,
   "metadata": {},
   "outputs": [
    {
     "data": {
      "text/plain": [
       "<matplotlib.legend.Legend at 0x21175bed0>"
      ]
     },
     "execution_count": 9,
     "metadata": {},
     "output_type": "execute_result"
    },
    {
     "data": {
      "image/png": "[encoded data removed]",
      "text/plain": [
       "<Figure size 432x288 with 1 Axes>"
      ]
     },
     "metadata": {},
     "output_type": "display_data"
    }
   ],
   "source": [
    "import matplotlib.pyplot as plt\n",
    "\n",
    "history_dict = history.history\n",
    "loss_values = history_dict['loss']\n",
    "val_loss_values = history_dict['val_loss']\n",
    "\n",
    "epochs = range(1, 20 + 1)\n",
    "\n",
    "plt.plot(epochs, loss_values, 'bo', label='Training loss')\n",
    "plt.plot(epochs, val_loss_values, 'b', label='Validation loss')\n",
    "plt.title('Training and validation loss')\n",
    "plt.xlabel('Epochs')\n",
    "plt.ylabel('Loss')\n",
    "plt.legend()\n",
    "\n",
    "\n"
   ]
  },
  {
   "cell_type": "code",
   "execution_count": 10,
   "metadata": {},
   "outputs": [
    {
     "data": {
      "image/png": "[encoded data removed]",
      "text/plain": [
       "<Figure size 432x288 with 1 Axes>"
      ]
     },
     "metadata": {},
     "output_type": "display_data"
    }
   ],
   "source": [
    "\n",
    "plt.clf()\n",
    "acc_values = history_dict['acc']\n",
    "val_acc_values = history_dict['val_acc']\n",
    "\n",
    "plt.plot(epochs, acc_values, 'bo', label='Training acc')\n",
    "plt.plot(epochs, val_acc_values, 'b', label='Validation acc')\n",
    "plt.title('Training and validation accuracy')\n",
    "plt.xlabel('Epochs')\n",
    "plt.ylabel('Loss')\n",
    "plt.legend()\n",
    "\n",
    "plt.show()"
   ]
  },
  {
   "cell_type": "markdown",
   "metadata": {},
   "source": [
    "From the graphic is possible to see that, for the training set, the accuracy increases with the epoch and the loss decreases, which is what we where expecting. On the other hand, the same is not observed in the validation set, making this a case of overfitting. The model is well trained for the training set but behaves poorly with the validation set. In order to solve this issue we should decrease the number of epoch. \n"
   ]
  },
  {
   "cell_type": "code",
   "execution_count": 11,
   "metadata": {},
   "outputs": [
    {
     "name": "stdout",
     "output_type": "stream",
     "text": [
      "Epoch 1/4\n",
      "25000/25000 [==============================] - 3s 130us/step - loss: 0.4749 - acc: 0.8217\n",
      "Epoch 2/4\n",
      "25000/25000 [==============================] - 2s 90us/step - loss: 0.2658 - acc: 0.9097\n",
      "Epoch 3/4\n",
      "25000/25000 [==============================] - 2s 77us/step - loss: 0.1982 - acc: 0.9299\n",
      "Epoch 4/4\n",
      "25000/25000 [==============================] - 2s 73us/step - loss: 0.1679 - acc: 0.9402\n",
      "25000/25000 [==============================] - 3s 132us/step\n"
     ]
    }
   ],
   "source": [
    "model = models.Sequential()\n",
    "model.add(layers.Dense(16, activation='relu', input_shape=(10000,)))\n",
    "model.add(layers.Dense(16, activation='relu'))\n",
    "model.add(layers.Dense(1, activation='sigmoid'))\n",
    "\n",
    "model.compile(optimizer='rmsprop',\n",
    "              loss='binary_crossentropy',\n",
    "              metrics=['accuracy'])\n",
    "\n",
    "model.fit(x_train, y_train, epochs=4, batch_size=512)\n",
    "results = model.evaluate(x_test, y_test)"
   ]
  },
  {
   "cell_type": "markdown",
   "metadata": {},
   "source": [
    "# To evaluate if our model is the best\n"
   ]
  },
  {
   "cell_type": "markdown",
   "metadata": {},
   "source": [
    "### Using only one hidden layer\n"
   ]
  },
  {
   "cell_type": "code",
   "execution_count": 13,
   "metadata": {},
   "outputs": [
    {
     "name": "stdout",
     "output_type": "stream",
     "text": [
      "Epoch 1/4\n",
      "25000/25000 [==============================] - 4s 153us/step - loss: 0.4477 - acc: 0.8325\n",
      "Epoch 2/4\n",
      "25000/25000 [==============================] - 2s 73us/step - loss: 0.2797 - acc: 0.9077\n",
      "Epoch 3/4\n",
      "25000/25000 [==============================] - 2s 73us/step - loss: 0.2214 - acc: 0.9244\n",
      "Epoch 4/4\n",
      "25000/25000 [==============================] - 2s 72us/step - loss: 0.1878 - acc: 0.9354\n",
      "25000/25000 [==============================] - 3s 140us/step\n"
     ]
    }
   ],
   "source": [
    "model = models.Sequential()\n",
    "model.add(layers.Dense(16, activation='relu', input_shape=(10000,)))\n",
    "model.add(layers.Dense(1, activation='sigmoid'))\n",
    "\n",
    "model.compile(optimizer='rmsprop',\n",
    "              loss='binary_crossentropy',\n",
    "              metrics=['accuracy'])\n",
    "\n",
    "model.fit(x_train, y_train, epochs=4, batch_size=512)\n",
    "results = model.evaluate(x_test, y_test)"
   ]
  },
  {
   "cell_type": "code",
   "execution_count": 14,
   "metadata": {},
   "outputs": [
    {
     "data": {
      "text/plain": [
       "[0.2789416261291504, 0.8888]"
      ]
     },
     "execution_count": 14,
     "metadata": {},
     "output_type": "execute_result"
    }
   ],
   "source": [
    "results\n"
   ]
  },
  {
   "cell_type": "markdown",
   "metadata": {},
   "source": [
    "### Using 3 hidden layers"
   ]
  },
  {
   "cell_type": "code",
   "execution_count": 15,
   "metadata": {},
   "outputs": [
    {
     "name": "stdout",
     "output_type": "stream",
     "text": [
      "Epoch 1/4\n",
      "25000/25000 [==============================] - 4s 163us/step - loss: 0.4602 - acc: 0.8175\n",
      "Epoch 2/4\n",
      "25000/25000 [==============================] - 2s 73us/step - loss: 0.2506 - acc: 0.9105\n",
      "Epoch 3/4\n",
      "25000/25000 [==============================] - 2s 72us/step - loss: 0.2007 - acc: 0.9260\n",
      "Epoch 4/4\n",
      "25000/25000 [==============================] - 2s 72us/step - loss: 0.1646 - acc: 0.9407\n",
      "25000/25000 [==============================] - 3s 136us/step\n"
     ]
    }
   ],
   "source": [
    "model = models.Sequential()\n",
    "model.add(layers.Dense(16, activation='relu', input_shape=(10000,)))\n",
    "model.add(layers.Dense(16, activation='relu'))\n",
    "model.add(layers.Dense(16, activation='relu'))\n",
    "model.add(layers.Dense(1, activation='sigmoid'))\n",
    "\n",
    "model.compile(optimizer='rmsprop',\n",
    "              loss='binary_crossentropy',\n",
    "              metrics=['accuracy'])\n",
    "\n",
    "model.fit(x_train, y_train, epochs=4, batch_size=512)\n",
    "results = model.evaluate(x_test, y_test)"
   ]
  },
  {
   "cell_type": "code",
   "execution_count": 16,
   "metadata": {},
   "outputs": [
    {
     "data": {
      "text/plain": [
       "[0.307541703414917, 0.88004]"
      ]
     },
     "execution_count": 16,
     "metadata": {},
     "output_type": "execute_result"
    }
   ],
   "source": [
    "results\n"
   ]
  },
  {
   "cell_type": "markdown",
   "metadata": {},
   "source": [
    "### Hidden layers with more hidden units (32)"
   ]
  },
  {
   "cell_type": "code",
   "execution_count": 17,
   "metadata": {},
   "outputs": [
    {
     "name": "stdout",
     "output_type": "stream",
     "text": [
      "Epoch 1/4\n",
      "25000/25000 [==============================] - 4s 169us/step - loss: 0.4249 - acc: 0.8270\n",
      "Epoch 2/4\n",
      "25000/25000 [==============================] - 2s 82us/step - loss: 0.2420 - acc: 0.9111\n",
      "Epoch 3/4\n",
      "25000/25000 [==============================] - 2s 87us/step - loss: 0.1855 - acc: 0.9316\n",
      "Epoch 4/4\n",
      "25000/25000 [==============================] - 2s 88us/step - loss: 0.1590 - acc: 0.9418\n",
      "25000/25000 [==============================] - 4s 159us/step\n"
     ]
    }
   ],
   "source": [
    "model = models.Sequential()\n",
    "model.add(layers.Dense(32, activation='relu', input_shape=(10000,)))\n",
    "model.add(layers.Dense(32, activation='relu'))\n",
    "model.add(layers.Dense(1, activation='sigmoid'))\n",
    "\n",
    "model.compile(optimizer='rmsprop',\n",
    "              loss='binary_crossentropy',\n",
    "              metrics=['accuracy'])\n",
    "\n",
    "model.fit(x_train, y_train, epochs=4, batch_size=512)\n",
    "results = model.evaluate(x_test, y_test)"
   ]
  },
  {
   "cell_type": "code",
   "execution_count": 18,
   "metadata": {},
   "outputs": [
    {
     "data": {
      "text/plain": [
       "[0.32652115415096283, 0.87424]"
      ]
     },
     "execution_count": 18,
     "metadata": {},
     "output_type": "execute_result"
    }
   ],
   "source": [
    "results\n"
   ]
  },
  {
   "cell_type": "markdown",
   "metadata": {},
   "source": [
    "### Hidden layers with more hidden units (64)"
   ]
  },
  {
   "cell_type": "code",
   "execution_count": 19,
   "metadata": {},
   "outputs": [
    {
     "name": "stdout",
     "output_type": "stream",
     "text": [
      "Epoch 1/4\n",
      "25000/25000 [==============================] - 4s 166us/step - loss: 0.4119 - acc: 0.8299\n",
      "Epoch 2/4\n",
      "25000/25000 [==============================] - 2s 84us/step - loss: 0.2345 - acc: 0.9125\n",
      "Epoch 3/4\n",
      "25000/25000 [==============================] - 2s 86us/step - loss: 0.1846 - acc: 0.9320\n",
      "Epoch 4/4\n",
      "25000/25000 [==============================] - 2s 83us/step - loss: 0.1532 - acc: 0.9440\n",
      "25000/25000 [==============================] - 4s 146us/step\n"
     ]
    }
   ],
   "source": [
    "model = models.Sequential()\n",
    "model.add(layers.Dense(32, activation='relu', input_shape=(10000,)))\n",
    "model.add(layers.Dense(32, activation='relu'))\n",
    "model.add(layers.Dense(1, activation='sigmoid'))\n",
    "\n",
    "model.compile(optimizer='rmsprop',\n",
    "              loss='binary_crossentropy',\n",
    "              metrics=['accuracy'])\n",
    "\n",
    "model.fit(x_train, y_train, epochs=4, batch_size=512)\n",
    "results = model.evaluate(x_test, y_test)"
   ]
  },
  {
   "cell_type": "code",
   "execution_count": 20,
   "metadata": {},
   "outputs": [
    {
     "data": {
      "text/plain": [
       "[0.3200162315940857, 0.87856]"
      ]
     },
     "execution_count": 20,
     "metadata": {},
     "output_type": "execute_result"
    }
   ],
   "source": [
    "results\n"
   ]
  },
  {
   "cell_type": "markdown",
   "metadata": {},
   "source": []
  }
 ],
 "metadata": {
  "kernelspec": {
   "display_name": "Python 2",
   "language": "python",
   "name": "python2"
  },
  "language_info": {
   "codemirror_mode": {
    "name": "ipython",
    "version": 2
   },
   "file_extension": ".py",
   "mimetype": "text/x-python",
   "name": "python",
   "nbconvert_exporter": "python",
   "pygments_lexer": "ipython2",
   "version": "2.7.14"
  }
 },
 "nbformat": 4,
 "nbformat_minor": 2
}
